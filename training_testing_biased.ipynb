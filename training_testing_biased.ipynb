{
  "cells": [
    {
      "cell_type": "markdown",
      "metadata": {
        "id": "view-in-github",
        "colab_type": "text"
      },
      "source": [
        "<a href=\"https://colab.research.google.com/github/Yayunyun/IDS705_final_project/blob/main/training_testing_biased.ipynb\" target=\"_parent\"><img src=\"https://colab.research.google.com/assets/colab-badge.svg\" alt=\"Open In Colab\"/></a>"
      ]
    },
    {
      "cell_type": "code",
      "source": [
        "# @title import module and load data from google drive\n",
        "# connect to google drive\n",
        "from google.colab import drive\n",
        "drive.mount('/content/drive/', force_remount = False)\n",
        "# cd to my final project folder\n",
        "%cd /content/drive/Othercomputers/My_MacBook_Pro/final_project/data\n",
        "# move to working folder in colab\n",
        "%cd /content\n",
        "%mkdir final_project\n",
        "%cd final_project\n",
        "\n",
        "# unzip folder from google drive to colab\n",
        "!unzip /content/drive/Othercomputers/My_MacBook_Pro/final_project/data/images.zip\n",
        "#!unzip /content/drive/Othercomputers/My_MacBook_Pro/final_project/data/images2.zip\n",
        "#!unzip /content/drive/Othercomputers/My_MacBook_Pro/final_project/data/images3.zip\n",
        "!unzip /content/drive/Othercomputers/My_MacBook_Pro/final_project/data/images4.zip\n",
        "!unzip /content/drive/Othercomputers/My_MacBook_Pro/final_project/data/images5.zip\n",
        "!unzip /content/drive/Othercomputers/My_MacBook_Pro/final_project/data/images6.zip\n",
        "!unzip /content/drive/Othercomputers/My_MacBook_Pro/final_project/data/images7.zip\n",
        "#!unzip /content/drive/Othercomputers/My_MacBook_Pro/final_project/data/images8.zip\n",
        "!unzip /content/drive/Othercomputers/My_MacBook_Pro/final_project/data/images9.zip\n",
        "!unzip /content/drive/Othercomputers/My_MacBook_Pro/final_project/data/images10.zip\n",
        "!unzip /content/drive/Othercomputers/My_MacBook_Pro/final_project/data/images11.zip\n",
        "!unzip /content/drive/Othercomputers/My_MacBook_Pro/final_project/data/images12.zip\n",
        "\n",
        "# copy files from g-drive to colab\n",
        "%cp /content/drive/Othercomputers/My_MacBook_Pro/final_project/data/Data_Entry_2017.csv .\n",
        "# # import pacakges\n",
        "import numpy as np\n",
        "import pandas as pd\n",
        "import matplotlib.pyplot as plt\n",
        "import seaborn as sns\n",
        "import os\n",
        "from torchvision.io import read_image\n",
        "from torch.utils.data import Dataset, DataLoader\n",
        "\n",
        "%matplotlib inline\n",
        "\n",
        "from __future__ import print_function\n",
        "from __future__ import division\n",
        "import torch\n",
        "import torch.nn as nn\n",
        "import torch.optim as optim\n",
        "import numpy as np\n",
        "import torchvision\n",
        "from torchvision import datasets, models, transforms\n",
        "from PIL import Image\n",
        "from tqdm import tqdm\n",
        "import matplotlib.pyplot as plt\n",
        "import time\n",
        "import os\n",
        "import copy\n",
        "\n",
        "import numpy as np\n",
        "import pandas as pd\n",
        "import matplotlib.pyplot as plt\n",
        "import seaborn as sns\n",
        "import os\n",
        "\n",
        "import os\n",
        "import pandas as pd\n",
        "from torchvision.io import read_image\n",
        "from sklearn.metrics import precision_score, accuracy_score, recall_score, f1_score\n",
        "from sklearn.model_selection import train_test_split\n",
        "from tqdm import tqdm\n",
        "\n",
        "device = torch.device(\"cuda:0\" if torch.cuda.is_available() else \"cpu\")\n",
        "print(device)\n",
        "\n",
        "%matplotlib inline\n",
        "print(\"PyTorch Version: \",torch.__version__)\n",
        "print(\"Torchvision Version: \",torchvision.__version__)\n",
        "\n",
        "### OpenMP issues\n",
        "os.environ['KMP_DUPLICATE_LIB_OK']='True'\n",
        "\n",
        "%cd /content"
      ],
      "metadata": {
        "colab": {
          "base_uri": "https://localhost:8080/"
        },
        "id": "5Ecv_GVwQc79",
        "outputId": "a08f4983-21b8-4a02-c685-82df0eacbc2e"
      },
      "execution_count": 2,
      "outputs": [
        {
          "output_type": "stream",
          "name": "stdout",
          "text": [
            "cuda:0\n",
            "PyTorch Version:  2.0.0+cu118\n",
            "Torchvision Version:  0.15.1+cu118\n",
            "/content\n"
          ]
        }
      ]
    },
    {
      "cell_type": "markdown",
      "metadata": {
        "id": "c4ZRavWR1jG2"
      },
      "source": [
        "# Model development"
      ]
    },
    {
      "cell_type": "markdown",
      "metadata": {
        "id": "0pH5i7E21lMt"
      },
      "source": [
        "read data"
      ]
    },
    {
      "cell_type": "code",
      "source": [
        "df_imbalanced_20_80 = pd.read_pickle('/content/drive/Othercomputers/My_MacBook_Pro/final_project/df30_70.pkl')\n",
        "test_df_ = pd.read_pickle('/content/drive/Othercomputers/My_MacBook_Pro/final_project/df_test.pkl')"
      ],
      "metadata": {
        "id": "1v4eF7o5Owr8"
      },
      "execution_count": null,
      "outputs": []
    },
    {
      "cell_type": "code",
      "execution_count": null,
      "metadata": {
        "colab": {
          "base_uri": "https://localhost:8080/",
          "height": 206
        },
        "id": "TBe5fJvwb8O6",
        "outputId": "2f76ed79-e235-41aa-830d-d5895651bb4d"
      },
      "outputs": [
        {
          "data": {
            "text/html": [
              "\n",
              "  <div id=\"df-0e7940a5-91e7-4b89-b9d6-fb972ff65c32\">\n",
              "    <div class=\"colab-df-container\">\n",
              "      <div>\n",
              "<style scoped>\n",
              "    .dataframe tbody tr th:only-of-type {\n",
              "        vertical-align: middle;\n",
              "    }\n",
              "\n",
              "    .dataframe tbody tr th {\n",
              "        vertical-align: top;\n",
              "    }\n",
              "\n",
              "    .dataframe thead th {\n",
              "        text-align: right;\n",
              "    }\n",
              "</style>\n",
              "<table border=\"1\" class=\"dataframe\">\n",
              "  <thead>\n",
              "    <tr style=\"text-align: right;\">\n",
              "      <th></th>\n",
              "      <th>Index</th>\n",
              "      <th>Finding Labels</th>\n",
              "      <th>Follow-up #</th>\n",
              "      <th>Patient ID</th>\n",
              "      <th>Patient Age</th>\n",
              "      <th>Patient Gender</th>\n",
              "      <th>View Position</th>\n",
              "      <th>OriginalImage[Width</th>\n",
              "      <th>Height]</th>\n",
              "      <th>OriginalImagePixelSpacing[x</th>\n",
              "      <th>y]</th>\n",
              "      <th>FilePath</th>\n",
              "      <th>Sick</th>\n",
              "      <th>gender</th>\n",
              "    </tr>\n",
              "  </thead>\n",
              "  <tbody>\n",
              "    <tr>\n",
              "      <th>85882</th>\n",
              "      <td>00021199_000.png</td>\n",
              "      <td>Infiltration</td>\n",
              "      <td>0</td>\n",
              "      <td>21199</td>\n",
              "      <td>44</td>\n",
              "      <td>M</td>\n",
              "      <td>PA</td>\n",
              "      <td>3056</td>\n",
              "      <td>2544</td>\n",
              "      <td>0.139</td>\n",
              "      <td>0.139</td>\n",
              "      <td>./final_project/images10/00021199_000.png</td>\n",
              "      <td>1</td>\n",
              "      <td>1</td>\n",
              "    </tr>\n",
              "    <tr>\n",
              "      <th>28230</th>\n",
              "      <td>00007354_002.png</td>\n",
              "      <td>No Finding</td>\n",
              "      <td>2</td>\n",
              "      <td>7354</td>\n",
              "      <td>42</td>\n",
              "      <td>M</td>\n",
              "      <td>AP</td>\n",
              "      <td>2500</td>\n",
              "      <td>2048</td>\n",
              "      <td>0.168</td>\n",
              "      <td>0.168</td>\n",
              "      <td>./final_project/images4/00007354_002.png</td>\n",
              "      <td>0</td>\n",
              "      <td>1</td>\n",
              "    </tr>\n",
              "    <tr>\n",
              "      <th>34533</th>\n",
              "      <td>00009093_006.png</td>\n",
              "      <td>No Finding</td>\n",
              "      <td>6</td>\n",
              "      <td>9093</td>\n",
              "      <td>26</td>\n",
              "      <td>M</td>\n",
              "      <td>PA</td>\n",
              "      <td>2742</td>\n",
              "      <td>2991</td>\n",
              "      <td>0.143</td>\n",
              "      <td>0.143</td>\n",
              "      <td>./final_project/images4/00009093_006.png</td>\n",
              "      <td>0</td>\n",
              "      <td>1</td>\n",
              "    </tr>\n",
              "    <tr>\n",
              "      <th>21350</th>\n",
              "      <td>00005694_000.png</td>\n",
              "      <td>No Finding</td>\n",
              "      <td>0</td>\n",
              "      <td>5694</td>\n",
              "      <td>45</td>\n",
              "      <td>M</td>\n",
              "      <td>AP</td>\n",
              "      <td>2500</td>\n",
              "      <td>2048</td>\n",
              "      <td>0.171</td>\n",
              "      <td>0.171</td>\n",
              "      <td>./final_project/images3/00005694_000.png</td>\n",
              "      <td>0</td>\n",
              "      <td>1</td>\n",
              "    </tr>\n",
              "    <tr>\n",
              "      <th>78538</th>\n",
              "      <td>00019271_021.png</td>\n",
              "      <td>Atelectasis|Infiltration</td>\n",
              "      <td>21</td>\n",
              "      <td>19271</td>\n",
              "      <td>54</td>\n",
              "      <td>M</td>\n",
              "      <td>AP</td>\n",
              "      <td>3056</td>\n",
              "      <td>2544</td>\n",
              "      <td>0.139</td>\n",
              "      <td>0.139</td>\n",
              "      <td>./final_project/images8/00019271_021.png</td>\n",
              "      <td>1</td>\n",
              "      <td>1</td>\n",
              "    </tr>\n",
              "  </tbody>\n",
              "</table>\n",
              "</div>\n",
              "      <button class=\"colab-df-convert\" onclick=\"convertToInteractive('df-0e7940a5-91e7-4b89-b9d6-fb972ff65c32')\"\n",
              "              title=\"Convert this dataframe to an interactive table.\"\n",
              "              style=\"display:none;\">\n",
              "        \n",
              "  <svg xmlns=\"http://www.w3.org/2000/svg\" height=\"24px\"viewBox=\"0 0 24 24\"\n",
              "       width=\"24px\">\n",
              "    <path d=\"M0 0h24v24H0V0z\" fill=\"none\"/>\n",
              "    <path d=\"M18.56 5.44l.94 2.06.94-2.06 2.06-.94-2.06-.94-.94-2.06-.94 2.06-2.06.94zm-11 1L8.5 8.5l.94-2.06 2.06-.94-2.06-.94L8.5 2.5l-.94 2.06-2.06.94zm10 10l.94 2.06.94-2.06 2.06-.94-2.06-.94-.94-2.06-.94 2.06-2.06.94z\"/><path d=\"M17.41 7.96l-1.37-1.37c-.4-.4-.92-.59-1.43-.59-.52 0-1.04.2-1.43.59L10.3 9.45l-7.72 7.72c-.78.78-.78 2.05 0 2.83L4 21.41c.39.39.9.59 1.41.59.51 0 1.02-.2 1.41-.59l7.78-7.78 2.81-2.81c.8-.78.8-2.07 0-2.86zM5.41 20L4 18.59l7.72-7.72 1.47 1.35L5.41 20z\"/>\n",
              "  </svg>\n",
              "      </button>\n",
              "      \n",
              "  <style>\n",
              "    .colab-df-container {\n",
              "      display:flex;\n",
              "      flex-wrap:wrap;\n",
              "      gap: 12px;\n",
              "    }\n",
              "\n",
              "    .colab-df-convert {\n",
              "      background-color: #E8F0FE;\n",
              "      border: none;\n",
              "      border-radius: 50%;\n",
              "      cursor: pointer;\n",
              "      display: none;\n",
              "      fill: #1967D2;\n",
              "      height: 32px;\n",
              "      padding: 0 0 0 0;\n",
              "      width: 32px;\n",
              "    }\n",
              "\n",
              "    .colab-df-convert:hover {\n",
              "      background-color: #E2EBFA;\n",
              "      box-shadow: 0px 1px 2px rgba(60, 64, 67, 0.3), 0px 1px 3px 1px rgba(60, 64, 67, 0.15);\n",
              "      fill: #174EA6;\n",
              "    }\n",
              "\n",
              "    [theme=dark] .colab-df-convert {\n",
              "      background-color: #3B4455;\n",
              "      fill: #D2E3FC;\n",
              "    }\n",
              "\n",
              "    [theme=dark] .colab-df-convert:hover {\n",
              "      background-color: #434B5C;\n",
              "      box-shadow: 0px 1px 3px 1px rgba(0, 0, 0, 0.15);\n",
              "      filter: drop-shadow(0px 1px 2px rgba(0, 0, 0, 0.3));\n",
              "      fill: #FFFFFF;\n",
              "    }\n",
              "  </style>\n",
              "\n",
              "      <script>\n",
              "        const buttonEl =\n",
              "          document.querySelector('#df-0e7940a5-91e7-4b89-b9d6-fb972ff65c32 button.colab-df-convert');\n",
              "        buttonEl.style.display =\n",
              "          google.colab.kernel.accessAllowed ? 'block' : 'none';\n",
              "\n",
              "        async function convertToInteractive(key) {\n",
              "          const element = document.querySelector('#df-0e7940a5-91e7-4b89-b9d6-fb972ff65c32');\n",
              "          const dataTable =\n",
              "            await google.colab.kernel.invokeFunction('convertToInteractive',\n",
              "                                                     [key], {});\n",
              "          if (!dataTable) return;\n",
              "\n",
              "          const docLinkHtml = 'Like what you see? Visit the ' +\n",
              "            '<a target=\"_blank\" href=https://colab.research.google.com/notebooks/data_table.ipynb>data table notebook</a>'\n",
              "            + ' to learn more about interactive tables.';\n",
              "          element.innerHTML = '';\n",
              "          dataTable['output_type'] = 'display_data';\n",
              "          await google.colab.output.renderOutput(dataTable, element);\n",
              "          const docLink = document.createElement('div');\n",
              "          docLink.innerHTML = docLinkHtml;\n",
              "          element.appendChild(docLink);\n",
              "        }\n",
              "      </script>\n",
              "    </div>\n",
              "  </div>\n",
              "  "
            ],
            "text/plain": [
              "                  Index            Finding Labels  Follow-up #  Patient ID  \\\n",
              "85882  00021199_000.png              Infiltration            0       21199   \n",
              "28230  00007354_002.png                No Finding            2        7354   \n",
              "34533  00009093_006.png                No Finding            6        9093   \n",
              "21350  00005694_000.png                No Finding            0        5694   \n",
              "78538  00019271_021.png  Atelectasis|Infiltration           21       19271   \n",
              "\n",
              "       Patient Age Patient Gender View Position  OriginalImage[Width  Height]  \\\n",
              "85882           44              M            PA                 3056     2544   \n",
              "28230           42              M            AP                 2500     2048   \n",
              "34533           26              M            PA                 2742     2991   \n",
              "21350           45              M            AP                 2500     2048   \n",
              "78538           54              M            AP                 3056     2544   \n",
              "\n",
              "       OriginalImagePixelSpacing[x     y]  \\\n",
              "85882                        0.139  0.139   \n",
              "28230                        0.168  0.168   \n",
              "34533                        0.143  0.143   \n",
              "21350                        0.171  0.171   \n",
              "78538                        0.139  0.139   \n",
              "\n",
              "                                        FilePath  Sick  gender  \n",
              "85882  ./final_project/images10/00021199_000.png     1       1  \n",
              "28230   ./final_project/images4/00007354_002.png     0       1  \n",
              "34533   ./final_project/images4/00009093_006.png     0       1  \n",
              "21350   ./final_project/images3/00005694_000.png     0       1  \n",
              "78538   ./final_project/images8/00019271_021.png     1       1  "
            ]
          },
          "execution_count": 113,
          "metadata": {},
          "output_type": "execute_result"
        }
      ],
      "source": [
        "df_imbalanced_20_80.head()"
      ]
    },
    {
      "cell_type": "code",
      "execution_count": null,
      "metadata": {
        "id": "GF1DFLj51i68"
      },
      "outputs": [],
      "source": [
        "# initializae hyperparameter\n",
        "model_name = \"alexnet\"\n",
        "num_classes = 2\n",
        "batch_size = 16\n",
        "num_epochs = 4\n",
        "# Flag for feature extracting. When False, we finetune the whole model,\n",
        "#   when True we only update the reshaped layer params\n",
        "feature_extract = False"
      ]
    },
    {
      "cell_type": "markdown",
      "metadata": {
        "id": "uisK4WUJ3Vq7"
      },
      "source": [
        "## 2. Create Data Loader for the training and the validation set\n",
        "Returns the image, label and the gender of the person who has taken the X-Ray. "
      ]
    },
    {
      "cell_type": "code",
      "source": [
        "#@title function to create gender-imablanced data\n",
        "def create_by_ratio(ratio, train_df):\n",
        "\n",
        "  \"\"\"function to create gender-imablanced data\n",
        "  ratio: female:male ratio\n",
        "  train_df: dataframe to use\"\"\"\n",
        "\n",
        "  # make an imbalanced dataset by undersampling female class\n",
        "  train_male = train_df[train_df['Patient Gender'] == 'M']\n",
        "  train_female = train_df[train_df['Patient Gender'] == 'F']\n",
        "  # heart ==1\n",
        "  male_sample_num = train_male[train_male['Sick'] == 1].shape[0]\n",
        "  female_sample_num = np.round(male_sample_num*ratio).astype(int)\n",
        "  female_df1 = train_female[train_female['Sick'] == 1].sample(female_sample_num,  random_state = 1)\n",
        "\n",
        "\n",
        "  df_imbalanced = pd.concat([train_male, female_df1])\n",
        "  df_imbalanced = pd.concat([df_imbalanced, train_female[train_female['Sick'] == 0]])\n",
        "\n",
        "  return df_imbalanced\n"
      ],
      "metadata": {
        "id": "oJZHMksjSnnD"
      },
      "execution_count": null,
      "outputs": []
    },
    {
      "cell_type": "code",
      "execution_count": null,
      "metadata": {
        "id": "TvhfATe-3WgW",
        "cellView": "form"
      },
      "outputs": [],
      "source": [
        "#@title Create dataloader\n",
        "class CustomImageDataset(Dataset):\n",
        "    def __init__(self, finding, sensitive_attribute, path, transform=None, target_transform=None):\n",
        "        self.img_labels = finding\n",
        "        self.transform = transform\n",
        "        self.target_transform = target_transform\n",
        "        self.sensitive_attribute = sensitive_attribute\n",
        "        self.path = path\n",
        "    \n",
        "    def __len__(self):\n",
        "        return len(self.img_labels)\n",
        "    \n",
        "    def __getitem__(self, idx):\n",
        "        img_path = self.path.iloc[idx]\n",
        "        image = Image.open(img_path).convert('RGB') ## change to RGB cuz resnet, densenet only take RGB\n",
        "        label = self.img_labels.iloc[idx]\n",
        "        sensitive_attr = self.sensitive_attribute.iloc[idx]\n",
        "        if self.transform:\n",
        "            image = self.transform(image)\n",
        "        if self.target_transform:\n",
        "            label = self.target_transform(label)\n",
        "        sample = {'image': image, 'label': label, 'sensitive_attr':sensitive_attr}\n",
        "        return sample \n",
        "    \n",
        "transform = transforms.Compose([\n",
        "     transforms.Resize((224, 224)),\n",
        "    transforms.ToTensor()\n",
        "])\n",
        "\n",
        "df_train, df_val = train_test_split(df_imbalanced_20_80, test_size=0.2, random_state=1)\n",
        "\n",
        "train_dataset = CustomImageDataset(df_train['Sick'], df_train['gender'], \n",
        "                                df_train['FilePath'], transform=transform)\n",
        "val_dataset = CustomImageDataset(df_val['Sick'], df_val['gender'], \n",
        "                                df_val['FilePath'], transform=transform)\n",
        "df_balanced_test = create_by_ratio(0.5, test_df_)\n",
        "test_dataset = CustomImageDataset(df_balanced_test['Sick'], df_balanced_test['gender'], \n",
        "                                df_balanced_test['FilePath'], transform=transform)\n",
        "\n",
        "\n",
        "train_data_loader = DataLoader(train_dataset, batch_size=batch_size, shuffle = True)\n",
        "\n",
        "val_data_loader = DataLoader(val_dataset, batch_size=batch_size, shuffle = True)\n",
        "\n",
        "\n",
        "combined_data_loader = {\"train\":train_data_loader, \"val\":val_data_loader}"
      ]
    },
    {
      "cell_type": "markdown",
      "source": [
        "# Define the arcitecture of the model and the loss function"
      ],
      "metadata": {
        "id": "BXHWv5m6R1h_"
      }
    },
    {
      "cell_type": "code",
      "execution_count": 1,
      "metadata": {
        "id": "Z_bPh-Wh2Pg2",
        "cellView": "form"
      },
      "outputs": [],
      "source": [
        "#@title Define fairloss function\n",
        "# SPDX-License-Identifier: GPL-3.0-only\n",
        "# SPDX-FileCopyrightText: 2020 Vincent Lequertier <vi.le@autistici.org>\n",
        "\n",
        "import torch\n",
        "from typing import Callable, Union\n",
        "\n",
        "\n",
        "class FairLoss2(torch.nn.Module):\n",
        "    def __init__(\n",
        "        self,\n",
        "        loss_fun: torch.nn.Module,\n",
        "        unique_attr: torch.Tensor,\n",
        "        fairness_score: Union[\n",
        "            str, Callable[[torch.Tensor, torch.Tensor], torch.Tensor]],\n",
        "        strength = 0\n",
        "    ) -> None:\n",
        "        \"\"\"\n",
        "        Add a fairness measure to the regular loss\n",
        "\n",
        "        fairness_score is applied to input and target for each value of\n",
        "        unique_attr. Then the results are sumed up, divided by the minimum and\n",
        "        added to the regular loss function.\n",
        "\n",
        "\n",
        "        .. math::\n",
        "           loss + \\\\lambda{{\\\\sum_{i=0}^{k} w_i f_i(input, target)} \\\\over \\\\min\\\\limits_{ \\\\forall i\\\\in [0,k[} f_i(input, target)}\n",
        "\n",
        "        where:\n",
        "\n",
        "        - :math:`k` is the number of values of ``protected_attr``\n",
        "        - :math:`f` is the ``fairness_score`` function\n",
        "\n",
        "\n",
        "        Args:\n",
        "            loss_fun (torch.nn.Module): A loss function\n",
        "            unique_attr (torch.Tensor): Possible values of a sensitive attribute\n",
        "            fairness_score (Union[str, Callable[[torch.Tensor, torch.Tensor], torch.Tensor]]): A function that takes input and target as arguments and return a score. Or one of 'accuracy', 'fpr', 'tpr', 'tnr', 'fnr', 'ppv', 'npv', 'accuracy'\n",
        "\n",
        "        Examples:\n",
        "            >>> model = Model()\n",
        "            >>> data = torch.randint(0, 5, (100, 5), dtype=torch.float, requires_grad=True)\n",
        "            >>> target = torch.randint(0, 5, (100, 1), dtype=torch.float)\n",
        "            >>> input = model(data)\n",
        "            >>> # The sensitive attribute is the second column\n",
        "            >>> dim = 1\n",
        "            >>> criterion = FairLoss(torch.nn.MSELoss(), data[:, dim].detach().unique(), 'accuracy')\n",
        "            >>> loss = criterion(data[:, dim], y_pred, y_true)\n",
        "        \"\"\"\n",
        "\n",
        "        super().__init__()\n",
        "        self.loss = loss_fun\n",
        "        self.unique_attr = unique_attr\n",
        "        self.fairness_score = (\n",
        "            self.get_fairness_score(fairness_score)\n",
        "            if isinstance(fairness_score, str)\n",
        "            else fairness_score\n",
        "        )\n",
        "        self.strength = strength\n",
        "\n",
        "    def forward(\n",
        "        self, protected_attr: torch.Tensor, input: torch.Tensor, target: torch.Tensor\n",
        "    ):\n",
        "        \"\"\"\n",
        "        Compute the fair loss\n",
        "\n",
        "        Shape:\n",
        "            - protected_attr: :math:`(N,)`\n",
        "            - input: :math:`(N, 1)`\n",
        "            - target: :math:`(N, 1)`\n",
        "\n",
        "        Returns:\n",
        "            torch.Tensor: The fair loss value\n",
        "        \"\"\"\n",
        "        scores = []\n",
        "\n",
        "        for val in self.unique_attr:\n",
        "          fair_input = input[torch.where(protected_attr == val)].reshape(-1,)\n",
        "          fair_target = target[torch.where(protected_attr == val)].reshape(-1,)\n",
        "          scores.append(self.fairness_score(fair_input, fair_target))\n",
        "        scores = torch.FloatTensor(scores)\n",
        "        \n",
        "\n",
        "        # Sum up and divide by the minimum. Then add to the regular loss\n",
        "        target = torch.reshape(target, (-1,1)).float()\n",
        "        loss2 = scores.sum() / (scores.min() + 1e-7)\n",
        "        if torch.isnan(loss2) == True:\n",
        "          loss2 = torch.FloatTensor([0]).cuda()\n",
        "        return_loss = torch.add(self.loss(input, target), self.strength * loss2) \n",
        "        return self.loss(input, target)\n",
        "\n",
        "\n",
        "    def get_fairness_score(\n",
        "        self,\n",
        "        fairness_score: str,\n",
        "    ) -> Callable[[torch.Tensor, torch.Tensor], torch.Tensor]:\n",
        "        \"\"\"\n",
        "        Return one of the fairness scores that are built-in\n",
        "\n",
        "        Args:\n",
        "            fairness_score (str): The fairness score\n",
        "\n",
        "        Returns:\n",
        "            Callable[[torch.Tensor, torch.Tensor], torch.Tensor]: The fairness score function\n",
        "        \"\"\"\n",
        "        if hasattr(self, fairness_score):\n",
        "            return getattr(self, fairness_score)\n",
        "        else:\n",
        "            raise ValueError(\n",
        "                'The fairness score \"{}\" is unavailable'.format(fairness_score)\n",
        "            )\n",
        "\n",
        "\n",
        "    @staticmethod\n",
        "    def fpr(input: torch.Tensor, target: torch.Tensor) -> torch.Tensor:\n",
        "        \"\"\"\n",
        "        False Positive Rate\n",
        "\n",
        "        .. math::\n",
        "           {FPR} = {FP \\\\over FP + TN}\n",
        "\n",
        "        where:\n",
        "\n",
        "        - :math:`FP` is the number of False Positive\n",
        "        - :math:`TN` is the number of True Negative\n",
        "\n",
        "        Args:\n",
        "            input (torch.Tensor): Predicted values\n",
        "            target (torch.Tensor): Ground truth\n",
        "\n",
        "        Shape:\n",
        "            - input: :math:`(N, 1)`\n",
        "            - target: :math:`(N, 1)`\n",
        "\n",
        "        Returns:\n",
        "            torch.Tensor: False Positive Rate\n",
        "\n",
        "        Examples:\n",
        "            >>> input = np.random.randint(2, size=(10, 1)).astype(\"float\")\n",
        "            >>> input = torch.tensor(input)\n",
        "            >>> target = np.random.randint(2, size=(10, 1)).astype(\"float\")\n",
        "            >>> target = torch.tensor(target)\n",
        "            >>> fpr(input, target)\n",
        "        \"\"\"\n",
        "        fp = sum((input == True) & (target == False))\n",
        "        tn = sum((input == False) & (target == False))\n",
        "        return torch.true_divide(fp, fp + tn)\n",
        "\n",
        "\n",
        "    @staticmethod\n",
        "    def tpr(input: torch.Tensor, target: torch.Tensor) -> torch.Tensor:\n",
        "        \"\"\"\n",
        "        True Positive Rate\n",
        "\n",
        "        .. math::\n",
        "           {TPR} = {TP \\\\over TP + FN}\n",
        "\n",
        "        where:\n",
        "\n",
        "        - :math:`TP` is the number of True Positive\n",
        "        - :math:`FN` is the number of False Negative\n",
        "\n",
        "        Args:\n",
        "            input (torch.Tensor): Predicted values\n",
        "            target (torch.Tensor): Ground truth\n",
        "\n",
        "        Shape:\n",
        "            - input: :math:`(N, 1)`\n",
        "            - target: :math:`(N, 1)`\n",
        "\n",
        "        Returns:\n",
        "            torch.Tensor: True Positive Rate\n",
        "\n",
        "        Examples:\n",
        "            >>> input = torch.randint(0, 2, (10, 1), dtype=torch.float)\n",
        "            >>> target = torch.randint(0, 2, (10, 1), dtype=torch.float)\n",
        "            >>> tpr(input, target)\n",
        "        \"\"\"\n",
        "        fn = sum((input == False) & (target == True))\n",
        "        tp = sum((input == True) & (target == True))\n",
        "        return torch.true_divide(tp, tp + fn)\n",
        "\n",
        "\n",
        "    @staticmethod\n",
        "    def tnr(input: torch.Tensor, target: torch.Tensor) -> torch.Tensor:\n",
        "        \"\"\"\n",
        "        True Negative Rate\n",
        "\n",
        "        .. math::\n",
        "           {TNR} = {TN \\\\over TN + FP}\n",
        "\n",
        "        where:\n",
        "\n",
        "        - :math:`TN` is the number of True Negative\n",
        "        - :math:`FP` is the number of False Positive\n",
        "\n",
        "        Args:\n",
        "            input (torch.Tensor): Predicted values\n",
        "            target (torch.Tensor): Ground truth\n",
        "\n",
        "        Shape:\n",
        "            - input: :math:`(N, 1)`\n",
        "            - target: :math:`(N, 1)`\n",
        "\n",
        "        Returns:\n",
        "            torch.Tensor: True Negative Rate\n",
        "\n",
        "        Examples:\n",
        "            >>> input = torch.randint(0, 2, (10, 1), dtype=torch.float)\n",
        "            >>> target = torch.randint(0, 2, (10, 1), dtype=torch.float)\n",
        "            >>> tnr(input, target)\n",
        "        \"\"\"\n",
        "        fp = sum((input == True) & (target == False))\n",
        "        tn = sum((input == False) & (target == False))\n",
        "        return torch.true_divide(tn, tn + fp)\n",
        "\n",
        "\n",
        "    @staticmethod\n",
        "    def fnr(input: torch.Tensor, target: torch.Tensor) -> torch.Tensor:\n",
        "        \"\"\"\n",
        "        False Negative Rate\n",
        "\n",
        "        .. math::\n",
        "           {FNR} = {FN \\\\over FN + TP}\n",
        "\n",
        "        where:\n",
        "\n",
        "        - :math:`FN` is the number of False Negative\n",
        "        - :math:`TP` is the number of True Positive\n",
        "\n",
        "        Args:\n",
        "            input (torch.Tensor): Predicted values\n",
        "            target (torch.Tensor): Ground truth\n",
        "\n",
        "        Shape:\n",
        "            - input: :math:`(N, 1)`\n",
        "            - target: :math:`(N, 1)`\n",
        "\n",
        "        Returns:\n",
        "            torch.Tensor: False Negative Rate\n",
        "\n",
        "        Examples:\n",
        "            >>> input = torch.randint(0, 2, (10, 1), dtype=torch.float)\n",
        "            >>> target = torch.randint(0, 2, (10, 1), dtype=torch.float)\n",
        "            >>> fnr(input, target)\n",
        "        \"\"\"\n",
        "        input = torch.round(input)\n",
        "        target = torch.round(target)\n",
        "        fn = sum((input == 0) & (target == 1))\n",
        "        tp = sum((input == 1) & (target == 1))\n",
        "        return torch.true_divide(fn, fn + tp)\n",
        "\n",
        "\n",
        "    @staticmethod\n",
        "    def ppv(input: torch.Tensor, target: torch.Tensor) -> torch.Tensor:\n",
        "        \"\"\"\n",
        "        Positive Predicted Value\n",
        "\n",
        "        .. math::\n",
        "           {PPV} = {TP \\\\over TP + FP}\n",
        "\n",
        "        where:\n",
        "\n",
        "        - :math:`TP` is the number of True Positive\n",
        "        - :math:`FP` is the number of False Positive\n",
        "\n",
        "        Args:\n",
        "            input (torch.Tensor): Predicted values\n",
        "            target (torch.Tensor): Ground truth\n",
        "\n",
        "        Shape:\n",
        "            - input: :math:`(N, 1)`\n",
        "            - target: :math:`(N, 1)`\n",
        "\n",
        "        Returns:\n",
        "            torch.Tensor: Positive Predicted Value\n",
        "\n",
        "        Examples:\n",
        "            >>> input = torch.randint(0, 2, (10, 1), dtype=torch.float)\n",
        "            >>> target = torch.randint(0, 2, (10, 1), dtype=torch.float)\n",
        "            >>> ppv(input, target)\n",
        "        \"\"\"\n",
        "        tp = sum((input == True) & (target == True))\n",
        "        fp = sum((input == True) & (target == False))\n",
        "        return torch.true_divide(tp, tp + fp)\n",
        "\n",
        "\n",
        "    @staticmethod\n",
        "    def npv(input: torch.Tensor, target: torch.Tensor) -> torch.Tensor:\n",
        "        \"\"\"\n",
        "        Negative Predicted Value\n",
        "\n",
        "        .. math::\n",
        "           {NPV} = {TN \\\\over TN + FN}\n",
        "\n",
        "        where:\n",
        "\n",
        "        - :math:`TN` is the number of True Negative\n",
        "        - :math:`FN` is the number of False Negative\n",
        "\n",
        "        Args:\n",
        "            input (torch.Tensor): Predicted values\n",
        "            target (torch.Tensor): Ground truth\n",
        "\n",
        "        Shape:\n",
        "            - input: :math:`(N, 1)`\n",
        "            - target: :math:`(N, 1)`\n",
        "\n",
        "        Returns:\n",
        "            torch.Tensor: Negative Predicted Value\n",
        "\n",
        "        Examples:\n",
        "            >>> input = torch.randint(0, 2, (10, 1), dtype=torch.float)\n",
        "            >>> target = torch.randint(0, 2, (10, 1), dtype=torch.float)\n",
        "            >>> npv(input, target)\n",
        "        \"\"\"\n",
        "        tn = sum((input == False) & (target == False))\n",
        "        fn = sum((input == False) & (target == True))\n",
        "        return torch.true_divide(tn, tn + fn)\n",
        "\n",
        "\n",
        "    @staticmethod\n",
        "    def accuracy(input: torch.Tensor, target: torch.Tensor) -> torch.Tensor:\n",
        "        \"\"\"\n",
        "        Accuracy\n",
        "\n",
        "        Args:\n",
        "            input (torch.Tensor): Predicted values\n",
        "            target (torch.Tensor): Ground truth\n",
        "\n",
        "        Shape:\n",
        "            - input: :math:`(N, 1)`\n",
        "            - target: :math:`(N, 1)`\n",
        "\n",
        "        Returns:\n",
        "            torch.Tensor: Accuracy\n",
        "\n",
        "        Examples:\n",
        "            >>> input = torch.randint(0, 2, (10, 1), dtype=torch.float)\n",
        "            >>> target = torch.randint(0, 2, (10, 1), dtype=torch.float)\n",
        "            >>> accuracy(input, target)\n",
        "        \"\"\"\n",
        "        input = torch.round(input)\n",
        "        target = torch.round(target)\n",
        "        return torch.true_divide((input == target).sum(), input.shape[0])"
      ]
    },
    {
      "cell_type": "code",
      "execution_count": null,
      "metadata": {
        "id": "ztJ9eoez4O4i",
        "cellView": "form"
      },
      "outputs": [],
      "source": [
        "#@title Define training code function\n",
        "def train_model(model, dataloaders, criterion, optimizer, num_epochs=25, is_inception=False):\n",
        "    since = time.time()\n",
        "\n",
        "    val_acc_history = []\n",
        "\n",
        "    best_model_wts = copy.deepcopy(model.state_dict())\n",
        "    best_acc = 0.0\n",
        "    #params for early stopping\n",
        "    prev_val_loss = 0\n",
        "    stop_patience = 0\n",
        "    for epoch in range(num_epochs):\n",
        "        print('Epoch {}/{}'.format(epoch+1, num_epochs))\n",
        "        print('-' * 10)\n",
        "        \n",
        "        # Each epoch has a training and validation phase\n",
        "        for phase in ['train', 'val']:\n",
        "            if phase == 'train':\n",
        "                model.train()  # Set model to training mode\n",
        "                current_dataloader = dataloaders[phase]\n",
        "                loop = tqdm(current_dataloader)\n",
        "            else:\n",
        "                model.eval()   # Set model to evaluate mode\n",
        "                current_dataloader = dataloaders[phase]\n",
        "                loop = tqdm(current_dataloader)\n",
        "            running_loss = 0.0\n",
        "            running_corrects = 0\n",
        "        \n",
        "            # Iterate over data.\n",
        "            for idx, data in enumerate(loop):\n",
        "\n",
        "                inputs = data['image'].to(device)\n",
        "                labels = data['label'].to(device)\n",
        "                \n",
        "                sensitive_attr = torch.clone(torch.tensor(data['sensitive_attr']))\n",
        "                \n",
        "                inputs = inputs.to(device)\n",
        "                \n",
        "\n",
        "                # zero the parameter gradients\n",
        "                optimizer.zero_grad()\n",
        "\n",
        "                # forward\n",
        "                # track history if only in train\n",
        "                with torch.set_grad_enabled(phase == 'train'):\n",
        "                    # Get model outputs and calculate loss\n",
        "                    # Special case for inception because in training it has an auxiliary output. In train\n",
        "                    #   mode we calculate the loss by summing the final output and the auxiliary output\n",
        "                    #   but in testing we only consider the final output.\n",
        "                    if is_inception and phase == 'train':\n",
        "                        # From https://discuss.pytorch.org/t/how-to-optimize-inception-model-with-auxiliary-classifiers/7958\n",
        "                        outputs, aux_outputs = model(inputs)\n",
        "                        loss1 = criterion(outputs, labels)\n",
        "                        loss2 = criterion(aux_outputs, labels)\n",
        "                        loss = loss1 + 0.4*loss2\n",
        "                        print('inception', loss)\n",
        "                    else:\n",
        "                        outputs = model(inputs)\n",
        "                        #loss = criterion(outputs, labels)\n",
        "                        loss = criterion(sensitive_attr, outputs, labels) ############# Changed here\n",
        "                        # print(f'batch loss: {loss:.2f}')\n",
        "                    \n",
        "                    # _, preds = torch.max(outputs, 1)\n",
        "\n",
        "                    # backward + optimize only if in training phase\n",
        "                    if phase == 'train':\n",
        "                        loss.backward()\n",
        "                        optimizer.step()\n",
        "\n",
        "                # statistics\n",
        "                running_loss += loss.item() * inputs.size(0)\n",
        "                # running_corrects += torch.sum(preds == labels.data)\n",
        "                running_corrects += torch.sum(torch.round(outputs).reshape(-1,1) == labels.reshape(-1,1)).item()\n",
        "                loop.set_description(f\"Epoch[{epoch+1}/{num_epochs}]  - {phase}\")\n",
        "                # loop.set_postfix(loss= 12, acc=12)\n",
        "\n",
        "            epoch_loss = running_loss / len(dataloaders[phase].dataset)\n",
        "            epoch_acc = running_corrects / len(dataloaders[phase].dataset)\n",
        "\n",
        "\n",
        "            print('{} Loss: {:.4f} Acc: {:.4f}'.format(phase, epoch_loss, epoch_acc))\n",
        "\n",
        "            # deep copy the model\n",
        "            if phase == 'val' and epoch_acc > best_acc:\n",
        "                best_acc = epoch_acc\n",
        "                best_model_wts = copy.deepcopy(model.state_dict())\n",
        "            if phase == 'val':\n",
        "                val_acc_history.append(epoch_acc)\n",
        "\n",
        "            # ## early stopping\n",
        "            # if phase =='val' and epoch_loss > prev_val_loss and prev_val_loss !=0:\n",
        "            #   prev_val_loss = epoch_loss\n",
        "            #   stop_patience += 1\n",
        "            #   if stop_patience == 2:\n",
        "            #     break\n",
        "            # else: \n",
        "            #   prev_val_loss = epoch_loss\n",
        "\n",
        "        print()\n",
        "\n",
        "    time_elapsed = time.time() - since\n",
        "    print('Training complete in {:.0f}m {:.0f}s'.format(time_elapsed // 60, time_elapsed % 60))\n",
        "    print('Best val Acc: {:4f}'.format(best_acc))\n",
        "\n",
        "    # load best model weights\n",
        "    model.load_state_dict(best_model_wts)\n",
        "    return model, val_acc_history\n",
        "\n",
        "def set_parameter_requires_grad(model, feature_extracting):\n",
        "    if feature_extracting:\n",
        "        for param in model.parameters():\n",
        "            param.requires_grad = False\n",
        "            "
      ]
    },
    {
      "cell_type": "code",
      "execution_count": null,
      "metadata": {
        "id": "ZjB4bmgc64JZ",
        "cellView": "form"
      },
      "outputs": [],
      "source": [
        "#@title Function for model initialization\n",
        "def initialize_model(model_name, num_classes, feature_extract, use_pretrained=True):\n",
        "    # Initialize these variables which will be set in this if statement. Each of these\n",
        "    #   variables is model specific.\n",
        "    model_ft = None\n",
        "    input_size = 0\n",
        "\n",
        "    if num_classes == 2:\n",
        "      num_classes = 1 # set loss function to BCEWithLogitsLoss()\n",
        "\n",
        "    if model_name == \"resnet\":\n",
        "        \"\"\" Resnet18\n",
        "        \"\"\"\n",
        "        model_ft = models.resnet18(pretrained=use_pretrained)\n",
        "        set_parameter_requires_grad(model_ft, feature_extract)\n",
        "        num_ftrs = model_ft.fc.in_features\n",
        "        model_ft.fc = nn.Linear(num_ftrs, num_classes)\n",
        "        input_size = 224\n",
        "\n",
        "    elif model_name == \"alexnet\":\n",
        "        \"\"\" Alexnet\n",
        "        \"\"\"\n",
        "        model_ft = models.alexnet(pretrained=use_pretrained)\n",
        "        set_parameter_requires_grad(model_ft, feature_extract)\n",
        "        num_ftrs = model_ft.classifier[6].in_features\n",
        "        model_ft.classifier[6] = nn.Linear(num_ftrs,num_classes)\n",
        "        input_size = 224\n",
        "\n",
        "    elif model_name == \"vgg\":\n",
        "        \"\"\" VGG11_bn\n",
        "        \"\"\"\n",
        "        model_ft = models.vgg11_bn(pretrained=use_pretrained)\n",
        "        set_parameter_requires_grad(model_ft, feature_extract)\n",
        "        num_ftrs = model_ft.classifier[6].in_features\n",
        "        model_ft.classifier[6] = nn.Linear(num_ftrs,1)\n",
        "        model_ft.features[0] = nn.Conv2d(in_channels=1, out_channels=64, kernel_size=3)\n",
        "        input_size = 224\n",
        "\n",
        "    elif model_name == \"squeezenet\":\n",
        "        \"\"\" Squeezenet\n",
        "        \"\"\"\n",
        "        model_ft = models.squeezenet1_0(pretrained=use_pretrained)\n",
        "        set_parameter_requires_grad(model_ft, feature_extract)\n",
        "        model_ft.classifier[1] = nn.Conv2d(512, num_classes, kernel_size=(1,1), stride=(1,1))\n",
        "        model_ft.num_classes = num_classes\n",
        "        input_size = 224\n",
        "\n",
        "    elif model_name == \"densenet\":\n",
        "        \"\"\" Densenet\n",
        "        \"\"\"\n",
        "        model_ft = models.densenet121(pretrained=use_pretrained)\n",
        "        set_parameter_requires_grad(model_ft, feature_extract)\n",
        "        num_ftrs = model_ft.classifier.in_features\n",
        "        model_ft.classifier = nn.Linear(num_ftrs, num_classes)\n",
        "        input_size = 224\n",
        "\n",
        "    elif model_name == \"inception\":\n",
        "        \"\"\" Inception v3\n",
        "        Be careful, expects (299,299) sized images and has auxiliary output\n",
        "        \"\"\"\n",
        "        model_ft = models.inception_v3(pretrained=use_pretrained)\n",
        "        set_parameter_requires_grad(model_ft, feature_extract)\n",
        "        # Handle the auxilary net\n",
        "        num_ftrs = model_ft.AuxLogits.fc.in_features\n",
        "        model_ft.AuxLogits.fc = nn.Linear(num_ftrs, num_classes)\n",
        "        # Handle the primary net\n",
        "        num_ftrs = model_ft.fc.in_features\n",
        "        model_ft.fc = nn.Linear(num_ftrs,num_classes)\n",
        "        input_size = 299\n",
        "\n",
        "    else:\n",
        "        print(\"Invalid model name, exiting...\")\n",
        "        exit()\n",
        "\n",
        "    return model_ft, input_size\n",
        "\n",
        "# Initialize the model for this run\n",
        "model_ft1, input_size = initialize_model('alexnet', num_classes, feature_extract, use_pretrained=True)\n",
        "model_ft1.classifier = nn.Sequential(model_ft1.classifier, nn.Sigmoid())\n"
      ]
    },
    {
      "cell_type": "code",
      "execution_count": null,
      "metadata": {
        "id": "2NLQRI6c69cO"
      },
      "outputs": [],
      "source": [
        "# Send the model to GPU\n",
        "model_ft1 = model_ft1.to(device)\n",
        "\n",
        "# Gather the parameters to be optimized/updated in this run. If we are\n",
        "#  finetuning we will be updating all parameters. However, if we are\n",
        "#  doing feature extract method, we will only update the parameters\n",
        "#  that we have just initialized, i.e. the parameters with requires_grad\n",
        "#  is True.\n",
        "params_to_update = model_ft1.parameters()\n",
        "print(\"Params to learn:\")\n",
        "if feature_extract:\n",
        "    params_to_update = []\n",
        "    for name,param in model_ft1.named_parameters():\n",
        "        if param.requires_grad == True:\n",
        "            params_to_update.append(param)\n",
        "            print(\"\\t\",name)\n",
        "else:\n",
        "    for name,param in model_ft1.named_parameters():\n",
        "        if param.requires_grad == True:\n",
        "          pass\n",
        "          print(\"\\t\",name)\n",
        "\n",
        "# Observe that all parameters are being optimized\n",
        "optimizer_ft = optim.SGD(params_to_update, lr=0.001, momentum=0.9)\n"
      ]
    },
    {
      "cell_type": "code",
      "execution_count": null,
      "metadata": {
        "colab": {
          "base_uri": "https://localhost:8080/"
        },
        "id": "LtV25fyy7Aet",
        "outputId": "62a68610-361d-46b8-a948-afff888fe7ca"
      },
      "outputs": [
        {
          "name": "stdout",
          "output_type": "stream",
          "text": [
            "Epoch 1/15\n",
            "----------\n"
          ]
        },
        {
          "name": "stderr",
          "output_type": "stream",
          "text": [
            "  0%|          | 0/793 [00:00<?, ?it/s]<ipython-input-120-45654fcfe056>:34: UserWarning: To copy construct from a tensor, it is recommended to use sourceTensor.clone().detach() or sourceTensor.clone().detach().requires_grad_(True), rather than torch.tensor(sourceTensor).\n",
            "  sensitive_attr = torch.clone(torch.tensor(data['sensitive_attr']))\n",
            "Epoch[1/15]  - train: 100%|██████████| 793/793 [04:18<00:00,  3.07it/s]\n"
          ]
        },
        {
          "name": "stdout",
          "output_type": "stream",
          "text": [
            "train Loss: 0.6621 Acc: 0.6080\n"
          ]
        },
        {
          "name": "stderr",
          "output_type": "stream",
          "text": [
            "Epoch[1/15]  - val: 100%|██████████| 199/199 [01:03<00:00,  3.14it/s]\n"
          ]
        },
        {
          "name": "stdout",
          "output_type": "stream",
          "text": [
            "val Loss: 0.6778 Acc: 0.6233\n",
            "\n",
            "Epoch 2/15\n",
            "----------\n"
          ]
        },
        {
          "name": "stderr",
          "output_type": "stream",
          "text": [
            "Epoch[2/15]  - train: 100%|██████████| 793/793 [04:17<00:00,  3.08it/s]\n"
          ]
        },
        {
          "name": "stdout",
          "output_type": "stream",
          "text": [
            "train Loss: 0.6276 Acc: 0.6512\n"
          ]
        },
        {
          "name": "stderr",
          "output_type": "stream",
          "text": [
            "Epoch[2/15]  - val: 100%|██████████| 199/199 [01:03<00:00,  3.13it/s]\n"
          ]
        },
        {
          "name": "stdout",
          "output_type": "stream",
          "text": [
            "val Loss: 0.6058 Acc: 0.6734\n",
            "\n",
            "Epoch 3/15\n",
            "----------\n"
          ]
        },
        {
          "name": "stderr",
          "output_type": "stream",
          "text": [
            "Epoch[3/15]  - train: 100%|██████████| 793/793 [04:17<00:00,  3.08it/s]\n"
          ]
        },
        {
          "name": "stdout",
          "output_type": "stream",
          "text": [
            "train Loss: 0.6140 Acc: 0.6626\n"
          ]
        },
        {
          "name": "stderr",
          "output_type": "stream",
          "text": [
            "Epoch[3/15]  - val: 100%|██████████| 199/199 [01:03<00:00,  3.13it/s]\n"
          ]
        },
        {
          "name": "stdout",
          "output_type": "stream",
          "text": [
            "val Loss: 0.6340 Acc: 0.6318\n",
            "\n",
            "Epoch 4/15\n",
            "----------\n"
          ]
        },
        {
          "name": "stderr",
          "output_type": "stream",
          "text": [
            "Epoch[4/15]  - train: 100%|██████████| 793/793 [04:18<00:00,  3.07it/s]\n"
          ]
        },
        {
          "name": "stdout",
          "output_type": "stream",
          "text": [
            "train Loss: 0.6025 Acc: 0.6776\n"
          ]
        },
        {
          "name": "stderr",
          "output_type": "stream",
          "text": [
            "Epoch[4/15]  - val: 100%|██████████| 199/199 [01:03<00:00,  3.13it/s]\n"
          ]
        },
        {
          "name": "stdout",
          "output_type": "stream",
          "text": [
            "val Loss: 0.5962 Acc: 0.6813\n",
            "\n",
            "Epoch 5/15\n",
            "----------\n"
          ]
        },
        {
          "name": "stderr",
          "output_type": "stream",
          "text": [
            "Epoch[5/15]  - train: 100%|██████████| 793/793 [04:17<00:00,  3.07it/s]\n"
          ]
        },
        {
          "name": "stdout",
          "output_type": "stream",
          "text": [
            "train Loss: 0.5984 Acc: 0.6836\n"
          ]
        },
        {
          "name": "stderr",
          "output_type": "stream",
          "text": [
            "Epoch[5/15]  - val: 100%|██████████| 199/199 [01:03<00:00,  3.13it/s]\n"
          ]
        },
        {
          "name": "stdout",
          "output_type": "stream",
          "text": [
            "val Loss: 0.6065 Acc: 0.6825\n",
            "\n",
            "Epoch 6/15\n",
            "----------\n"
          ]
        },
        {
          "name": "stderr",
          "output_type": "stream",
          "text": [
            "Epoch[6/15]  - train: 100%|██████████| 793/793 [04:17<00:00,  3.08it/s]\n"
          ]
        },
        {
          "name": "stdout",
          "output_type": "stream",
          "text": [
            "train Loss: 0.5890 Acc: 0.6944\n"
          ]
        },
        {
          "name": "stderr",
          "output_type": "stream",
          "text": [
            "Epoch[6/15]  - val: 100%|██████████| 199/199 [01:03<00:00,  3.12it/s]\n"
          ]
        },
        {
          "name": "stdout",
          "output_type": "stream",
          "text": [
            "val Loss: 0.5994 Acc: 0.6765\n",
            "\n",
            "Epoch 7/15\n",
            "----------\n"
          ]
        },
        {
          "name": "stderr",
          "output_type": "stream",
          "text": [
            "Epoch[7/15]  - train: 100%|██████████| 793/793 [04:17<00:00,  3.08it/s]\n"
          ]
        },
        {
          "name": "stdout",
          "output_type": "stream",
          "text": [
            "train Loss: 0.5821 Acc: 0.6970\n"
          ]
        },
        {
          "name": "stderr",
          "output_type": "stream",
          "text": [
            "Epoch[7/15]  - val: 100%|██████████| 199/199 [01:03<00:00,  3.13it/s]\n"
          ]
        },
        {
          "name": "stdout",
          "output_type": "stream",
          "text": [
            "val Loss: 0.6030 Acc: 0.6712\n",
            "\n",
            "Epoch 8/15\n",
            "----------\n"
          ]
        },
        {
          "name": "stderr",
          "output_type": "stream",
          "text": [
            "Epoch[8/15]  - train: 100%|██████████| 793/793 [04:18<00:00,  3.07it/s]\n"
          ]
        },
        {
          "name": "stdout",
          "output_type": "stream",
          "text": [
            "train Loss: 0.5774 Acc: 0.7030\n"
          ]
        },
        {
          "name": "stderr",
          "output_type": "stream",
          "text": [
            "Epoch[8/15]  - val: 100%|██████████| 199/199 [01:03<00:00,  3.12it/s]\n"
          ]
        },
        {
          "name": "stdout",
          "output_type": "stream",
          "text": [
            "val Loss: 0.5995 Acc: 0.6869\n",
            "\n",
            "Epoch 9/15\n",
            "----------\n"
          ]
        },
        {
          "name": "stderr",
          "output_type": "stream",
          "text": [
            "Epoch[9/15]  - train: 100%|██████████| 793/793 [04:17<00:00,  3.07it/s]\n"
          ]
        },
        {
          "name": "stdout",
          "output_type": "stream",
          "text": [
            "train Loss: 0.5690 Acc: 0.7074\n"
          ]
        },
        {
          "name": "stderr",
          "output_type": "stream",
          "text": [
            "Epoch[9/15]  - val: 100%|██████████| 199/199 [01:03<00:00,  3.13it/s]\n"
          ]
        },
        {
          "name": "stdout",
          "output_type": "stream",
          "text": [
            "val Loss: 0.5854 Acc: 0.6901\n",
            "\n",
            "Epoch 10/15\n",
            "----------\n"
          ]
        },
        {
          "name": "stderr",
          "output_type": "stream",
          "text": [
            "Epoch[10/15]  - train: 100%|██████████| 793/793 [04:17<00:00,  3.08it/s]\n"
          ]
        },
        {
          "name": "stdout",
          "output_type": "stream",
          "text": [
            "train Loss: 0.5644 Acc: 0.7088\n"
          ]
        },
        {
          "name": "stderr",
          "output_type": "stream",
          "text": [
            "Epoch[10/15]  - val: 100%|██████████| 199/199 [01:03<00:00,  3.14it/s]\n"
          ]
        },
        {
          "name": "stdout",
          "output_type": "stream",
          "text": [
            "val Loss: 0.6005 Acc: 0.6810\n",
            "\n",
            "Epoch 11/15\n",
            "----------\n"
          ]
        },
        {
          "name": "stderr",
          "output_type": "stream",
          "text": [
            "Epoch[11/15]  - train: 100%|██████████| 793/793 [04:17<00:00,  3.07it/s]\n"
          ]
        },
        {
          "name": "stdout",
          "output_type": "stream",
          "text": [
            "train Loss: 0.5575 Acc: 0.7156\n"
          ]
        },
        {
          "name": "stderr",
          "output_type": "stream",
          "text": [
            "Epoch[11/15]  - val: 100%|██████████| 199/199 [01:03<00:00,  3.14it/s]\n"
          ]
        },
        {
          "name": "stdout",
          "output_type": "stream",
          "text": [
            "val Loss: 0.6006 Acc: 0.6974\n",
            "\n",
            "Epoch 12/15\n",
            "----------\n"
          ]
        },
        {
          "name": "stderr",
          "output_type": "stream",
          "text": [
            "Epoch[12/15]  - train: 100%|██████████| 793/793 [04:17<00:00,  3.08it/s]\n"
          ]
        },
        {
          "name": "stdout",
          "output_type": "stream",
          "text": [
            "train Loss: 0.5518 Acc: 0.7186\n"
          ]
        },
        {
          "name": "stderr",
          "output_type": "stream",
          "text": [
            "Epoch[12/15]  - val: 100%|██████████| 199/199 [01:03<00:00,  3.13it/s]\n"
          ]
        },
        {
          "name": "stdout",
          "output_type": "stream",
          "text": [
            "val Loss: 0.5849 Acc: 0.6989\n",
            "\n",
            "Epoch 13/15\n",
            "----------\n"
          ]
        },
        {
          "name": "stderr",
          "output_type": "stream",
          "text": [
            "Epoch[13/15]  - train: 100%|██████████| 793/793 [04:18<00:00,  3.07it/s]\n"
          ]
        },
        {
          "name": "stdout",
          "output_type": "stream",
          "text": [
            "train Loss: 0.5497 Acc: 0.7208\n"
          ]
        },
        {
          "name": "stderr",
          "output_type": "stream",
          "text": [
            "Epoch[13/15]  - val: 100%|██████████| 199/199 [01:03<00:00,  3.13it/s]\n"
          ]
        },
        {
          "name": "stdout",
          "output_type": "stream",
          "text": [
            "val Loss: 0.6087 Acc: 0.6989\n",
            "\n",
            "Epoch 14/15\n",
            "----------\n"
          ]
        },
        {
          "name": "stderr",
          "output_type": "stream",
          "text": [
            "Epoch[14/15]  - train: 100%|██████████| 793/793 [04:17<00:00,  3.08it/s]\n"
          ]
        },
        {
          "name": "stdout",
          "output_type": "stream",
          "text": [
            "train Loss: 0.5411 Acc: 0.7290\n"
          ]
        },
        {
          "name": "stderr",
          "output_type": "stream",
          "text": [
            "Epoch[14/15]  - val: 100%|██████████| 199/199 [01:03<00:00,  3.13it/s]\n"
          ]
        },
        {
          "name": "stdout",
          "output_type": "stream",
          "text": [
            "val Loss: 0.5848 Acc: 0.6970\n",
            "\n",
            "Epoch 15/15\n",
            "----------\n"
          ]
        },
        {
          "name": "stderr",
          "output_type": "stream",
          "text": [
            "Epoch[15/15]  - train: 100%|██████████| 793/793 [04:17<00:00,  3.08it/s]\n"
          ]
        },
        {
          "name": "stdout",
          "output_type": "stream",
          "text": [
            "train Loss: 0.5323 Acc: 0.7333\n"
          ]
        },
        {
          "name": "stderr",
          "output_type": "stream",
          "text": [
            "Epoch[15/15]  - val: 100%|██████████| 199/199 [01:03<00:00,  3.13it/s]"
          ]
        },
        {
          "name": "stdout",
          "output_type": "stream",
          "text": [
            "val Loss: 0.5967 Acc: 0.6948\n",
            "\n",
            "Training complete in 80m 22s\n",
            "Best val Acc: 0.698928\n"
          ]
        },
        {
          "name": "stderr",
          "output_type": "stream",
          "text": [
            "\n"
          ]
        }
      ],
      "source": [
        "# Setup the loss fxn\n",
        "criterion = FairLoss2(nn.BCELoss(), [1, 0], 'fnr') ########change here\n",
        "model_ft1, hist = train_model(model_ft1, combined_data_loader, criterion, optimizer_ft, num_epochs= 15, is_inception=(model_name==\"inception\"))"
      ]
    },
    {
      "cell_type": "code",
      "execution_count": null,
      "metadata": {
        "id": "5SVNL3dQC_0f"
      },
      "outputs": [],
      "source": [
        "# # save model\n",
        "torch.save(model_ft1.state_dict(), \\\n",
        "           '/content/drive/Othercomputers/My_MacBook_Pro/final_project/torch_model_8020.pth')\n",
        "\n",
        "# # load model\n",
        "# new_model, _ = initialize_model('alexnet',1, False, use_pretrained=False)\n",
        "# new_model.classifier = nn.Sequential(new_model.classifier, nn.Sigmoid())\n",
        "# new_model.load_state_dict(torch.load(\"/content/drive/Othercomputers/My_MacBook_Pro/final_project/torch_model_8020.pth\"))\n"
      ]
    },
    {
      "cell_type": "markdown",
      "metadata": {
        "id": "yuWa_yhbR66Y"
      },
      "source": [
        "# Predictions on different test sets"
      ]
    },
    {
      "cell_type": "code",
      "execution_count": null,
      "metadata": {
        "id": "cXsnxyVGRgdH"
      },
      "outputs": [],
      "source": [
        "#@title function to get different metrics on the test set\n",
        "def get_metricss(logits, ratio, df_balanced_test):\n",
        "  \"\"\"function to get metrics on the test set\n",
        "  logits: output from the model\n",
        "  ratio: label for the gender-imablance test set\n",
        "  df_balanced_test: test data\"\"\"\n",
        "\n",
        "  predict_classes = np.round(logits) # use 0.5 as cut-off value\n",
        "  predict_classes = predict_classes\n",
        "  df_balanced_test['predict_classes'] = predict_classes\n",
        "\n",
        "  # evaluate overall \n",
        "  precision_ = precision_score(np.array(df_balanced_test['Sick'], dtype='int64').reshape(-1,), predict_classes)\n",
        "  accuracy_ = accuracy_score(np.array(df_balanced_test['Sick'], dtype='int64').reshape(-1,), predict_classes)\n",
        "  recall_ = recall_score(np.array(df_balanced_test['Sick'], dtype='int64').reshape(-1,), predict_classes)\n",
        "  f1_ = f1_score(np.array(df_balanced_test['Sick'], dtype='int64').reshape(-1,), predict_classes)\n",
        "  fpr = len(df_balanced_test[(df_balanced_test['predict_classes'] == 1)& (df_balanced_test['Sick'] == 0)])/len(df_balanced_test[df_balanced_test['Sick'] == 0])\n",
        "  fnr = len(df_balanced_test[(df_balanced_test['predict_classes'] == 0)& (df_balanced_test['Sick'] == 1)])/len(df_balanced_test[df_balanced_test['Sick'] == 1])\n",
        "\n",
        "\n",
        "\n",
        "  # evaluate preformance for male and female\n",
        "  df_balanced_test['predict_classes'] = predict_classes\n",
        "  male_test = df_balanced_test[df_balanced_test['Patient Gender'] == 'M']\n",
        "  female_test = df_balanced_test[df_balanced_test['Patient Gender'] == 'F']\n",
        "\n",
        "  male_precision = precision_score(np.array(male_test['Sick'], dtype='int64').reshape(-1,), male_test['predict_classes'])\n",
        "  female_precision = precision_score(np.array(female_test['Sick'], dtype='int64').reshape(-1,), female_test['predict_classes'])\n",
        "\n",
        "  male_accuracy = accuracy_score(np.array(male_test['Sick'], dtype='int64').reshape(-1,), male_test['predict_classes'])\n",
        "  female_accuracy = accuracy_score(np.array(female_test['Sick'], dtype='int64').reshape(-1,), female_test['predict_classes'])\n",
        "\n",
        "  male_recall = recall_score(np.array(male_test['Sick'], dtype='int64').reshape(-1,), male_test['predict_classes'])\n",
        "  female_recall = recall_score(np.array(female_test['Sick'], dtype='int64').reshape(-1,), female_test['predict_classes'])\n",
        "\n",
        "  male_f1 = f1_score(np.array(male_test['Sick'], dtype='int64').reshape(-1,), male_test['predict_classes'])\n",
        "  female_f1 = f1_score(np.array(female_test['Sick'], dtype='int64').reshape(-1,), female_test['predict_classes'])\n",
        "\n",
        "  male_fpr = len(male_test[(male_test['predict_classes'] == 1)& (male_test['Sick'] == 0)])/len(male_test[male_test['Sick'] == 0])\n",
        "  male_fnr = len(male_test[(male_test['predict_classes'] == 0)& (male_test['Sick'] == 1)])/len(male_test[male_test['Sick'] ==1])\n",
        "\n",
        "\n",
        "  female_fpr = len(female_test[(female_test['predict_classes'] == 1)& (female_test['Sick'] == 0)])/len(female_test[female_test['Sick'] == 0])\n",
        "  female_fnr = len(female_test[(female_test['predict_classes'] == 0)& (female_test['Sick'] == 1)])/len(female_test[female_test['Sick'] ==1])\n",
        "\n",
        "  fairness_metric = (((len(female_test)/len(df_balanced_test))*female_fnr) + ((len(male_test)/len(df_balanced_test))* male_fnr))/min(female_fnr, male_fnr)\n",
        "  results = [ratio, precision_, male_precision, female_precision,\\\n",
        "                           accuracy_, male_accuracy, female_accuracy, \\\n",
        "                           recall_, male_recall, female_recall, \\\n",
        "                           f1_, male_f1, female_f1, \\\n",
        "                          fpr, male_fpr, female_fpr, \\\n",
        "                          fnr, male_fnr, female_fnr, fairness_metric]\n",
        "  return results                          "
      ]
    },
    {
      "cell_type": "code",
      "execution_count": null,
      "metadata": {
        "id": "ux-0F3hoRgUQ"
      },
      "outputs": [],
      "source": [
        "# predict on 50 50 test set\n",
        "test_data_loader = DataLoader(test_dataset, batch_size= 64, shuffle = False, num_workers = 10)\n",
        "x = np.array([])\n",
        "for data in test_data_loader:\n",
        "  inputs =  data['image'].cuda()\n",
        "  outputs = model_ft1(inputs).detach().cpu().numpy().reshape(-1,)\n",
        "  x = np.concatenate((x, outputs), axis = 0)\n",
        "results_70_1 = get_metricss(x, 'M/F normal model train:70/30 test: 50/50', df_balanced_test)\n",
        "\n",
        "\n",
        "# predict on 70 30 test set\n",
        "df_balanced_test1 = create_by_ratio(30/70, test_df_)\n",
        "test_dataset_3070 = CustomImageDataset(df_balanced_test1['Sick'], df_balanced_test1['gender'], \n",
        "                                df_balanced_test1['FilePath'], transform=transform)\n",
        "test_data_loader1 = DataLoader(test_dataset_3070, batch_size= 64, shuffle = False, num_workers = 10)\n",
        "x2 = np.array([])\n",
        "for data in test_data_loader1:\n",
        "  inputs =  data['image'].cuda()\n",
        "  outputs = model_ft1(inputs).detach().cpu().numpy().reshape(-1,)\n",
        "  x2 = np.concatenate((x2, outputs), axis = 0)\n",
        "\n",
        "results_70_2 = get_metricss(x2, 'M/F normal model train:70/30 test: 70/30', df_balanced_test1)\n",
        "\n",
        "# predict on 90 10 test set\n",
        "df_balanced_test2 = create_by_ratio(10/90, test_df_)\n",
        "test_dataset_1090 = CustomImageDataset(df_balanced_test2['Sick'], df_balanced_test2['gender'], \n",
        "                                df_balanced_test2['FilePath'], transform=transform)\n",
        "test_data_loader2 = DataLoader(test_dataset_1090, batch_size= 64, shuffle = False, num_workers = 10)\n",
        "x3 = np.array([])\n",
        "for data in test_data_loader2:\n",
        "  inputs =  data['image'].cuda()\n",
        "  outputs = model_ft1(inputs).detach().cpu().numpy().reshape(-1,)\n",
        "  x3 = np.concatenate((x3, outputs), axis = 0)\n",
        "\n",
        "results_70_3 = get_metricss(x3, 'M/F normal model train:70/30 test: 90/10', df_balanced_test2)"
      ]
    },
    {
      "cell_type": "code",
      "execution_count": null,
      "metadata": {
        "id": "OzEt1OO_RgPz"
      },
      "outputs": [],
      "source": [
        "results_df = pd.DataFrame(columns = ['male/female', 'precision', 'male_precision', 'female_precision',\\\n",
        "                                    'accuracy', 'male_accuracy', 'female_accuracy', \\\n",
        "                                    'recall', 'male_recall', 'female_recall',\\\n",
        "                                    'f1', 'male_f1', 'female_f1', 'fpr', 'male_fpr', 'female_fpr', \\\n",
        "                                     'fnr', 'male_fnr', 'female_fnr', 'fairness_metric'])\n",
        "results_df.loc[1] = results_70_1\n",
        "results_df.loc[2] = results_70_2\n",
        "results_df.loc[3] = results_70_3"
      ]
    },
    {
      "cell_type": "code",
      "execution_count": null,
      "metadata": {
        "colab": {
          "base_uri": "https://localhost:8080/",
          "height": 239
        },
        "id": "MNuPJXIgRgNu",
        "outputId": "c69a6336-1a9e-4d17-a974-39534e12b3c7"
      },
      "outputs": [
        {
          "data": {
            "text/html": [
              "\n",
              "  <div id=\"df-a713c395-64ce-4fbc-b17d-54bed79999a6\">\n",
              "    <div class=\"colab-df-container\">\n",
              "      <div>\n",
              "<style scoped>\n",
              "    .dataframe tbody tr th:only-of-type {\n",
              "        vertical-align: middle;\n",
              "    }\n",
              "\n",
              "    .dataframe tbody tr th {\n",
              "        vertical-align: top;\n",
              "    }\n",
              "\n",
              "    .dataframe thead th {\n",
              "        text-align: right;\n",
              "    }\n",
              "</style>\n",
              "<table border=\"1\" class=\"dataframe\">\n",
              "  <thead>\n",
              "    <tr style=\"text-align: right;\">\n",
              "      <th></th>\n",
              "      <th>male/female</th>\n",
              "      <th>precision</th>\n",
              "      <th>male_precision</th>\n",
              "      <th>female_precision</th>\n",
              "      <th>accuracy</th>\n",
              "      <th>male_accuracy</th>\n",
              "      <th>female_accuracy</th>\n",
              "      <th>recall</th>\n",
              "      <th>male_recall</th>\n",
              "      <th>female_recall</th>\n",
              "      <th>f1</th>\n",
              "      <th>male_f1</th>\n",
              "      <th>female_f1</th>\n",
              "      <th>fpr</th>\n",
              "      <th>male_fpr</th>\n",
              "      <th>female_fpr</th>\n",
              "      <th>fnr</th>\n",
              "      <th>male_fnr</th>\n",
              "      <th>female_fnr</th>\n",
              "      <th>fairness_metric</th>\n",
              "    </tr>\n",
              "  </thead>\n",
              "  <tbody>\n",
              "    <tr>\n",
              "      <th>1</th>\n",
              "      <td>M/F normal model train:70/30 test: 50/50</td>\n",
              "      <td>0.659162</td>\n",
              "      <td>0.685883</td>\n",
              "      <td>0.594255</td>\n",
              "      <td>0.664980</td>\n",
              "      <td>0.670189</td>\n",
              "      <td>0.656857</td>\n",
              "      <td>0.609685</td>\n",
              "      <td>0.673929</td>\n",
              "      <td>0.481105</td>\n",
              "      <td>0.633459</td>\n",
              "      <td>0.679853</td>\n",
              "      <td>0.531727</td>\n",
              "      <td>0.285026</td>\n",
              "      <td>0.333857</td>\n",
              "      <td>0.223541</td>\n",
              "      <td>0.390315</td>\n",
              "      <td>0.326071</td>\n",
              "      <td>0.518895</td>\n",
              "      <td>1.231022</td>\n",
              "    </tr>\n",
              "    <tr>\n",
              "      <th>2</th>\n",
              "      <td>M/F normal model train:70/30 test: 70/30</td>\n",
              "      <td>0.650564</td>\n",
              "      <td>0.685883</td>\n",
              "      <td>0.556863</td>\n",
              "      <td>0.669254</td>\n",
              "      <td>0.670189</td>\n",
              "      <td>0.667708</td>\n",
              "      <td>0.616167</td>\n",
              "      <td>0.673929</td>\n",
              "      <td>0.481356</td>\n",
              "      <td>0.632898</td>\n",
              "      <td>0.679853</td>\n",
              "      <td>0.516364</td>\n",
              "      <td>0.285026</td>\n",
              "      <td>0.333857</td>\n",
              "      <td>0.223541</td>\n",
              "      <td>0.383833</td>\n",
              "      <td>0.326071</td>\n",
              "      <td>0.518644</td>\n",
              "      <td>1.222425</td>\n",
              "    </tr>\n",
              "    <tr>\n",
              "      <th>3</th>\n",
              "      <td>M/F normal model train:70/30 test: 90/10</td>\n",
              "      <td>0.605455</td>\n",
              "      <td>0.685883</td>\n",
              "      <td>0.239057</td>\n",
              "      <td>0.690089</td>\n",
              "      <td>0.670189</td>\n",
              "      <td>0.735395</td>\n",
              "      <td>0.652941</td>\n",
              "      <td>0.673929</td>\n",
              "      <td>0.464052</td>\n",
              "      <td>0.628302</td>\n",
              "      <td>0.679853</td>\n",
              "      <td>0.315556</td>\n",
              "      <td>0.285026</td>\n",
              "      <td>0.333857</td>\n",
              "      <td>0.223541</td>\n",
              "      <td>0.347059</td>\n",
              "      <td>0.326071</td>\n",
              "      <td>0.535948</td>\n",
              "      <td>1.196437</td>\n",
              "    </tr>\n",
              "  </tbody>\n",
              "</table>\n",
              "</div>\n",
              "      <button class=\"colab-df-convert\" onclick=\"convertToInteractive('df-a713c395-64ce-4fbc-b17d-54bed79999a6')\"\n",
              "              title=\"Convert this dataframe to an interactive table.\"\n",
              "              style=\"display:none;\">\n",
              "        \n",
              "  <svg xmlns=\"http://www.w3.org/2000/svg\" height=\"24px\"viewBox=\"0 0 24 24\"\n",
              "       width=\"24px\">\n",
              "    <path d=\"M0 0h24v24H0V0z\" fill=\"none\"/>\n",
              "    <path d=\"M18.56 5.44l.94 2.06.94-2.06 2.06-.94-2.06-.94-.94-2.06-.94 2.06-2.06.94zm-11 1L8.5 8.5l.94-2.06 2.06-.94-2.06-.94L8.5 2.5l-.94 2.06-2.06.94zm10 10l.94 2.06.94-2.06 2.06-.94-2.06-.94-.94-2.06-.94 2.06-2.06.94z\"/><path d=\"M17.41 7.96l-1.37-1.37c-.4-.4-.92-.59-1.43-.59-.52 0-1.04.2-1.43.59L10.3 9.45l-7.72 7.72c-.78.78-.78 2.05 0 2.83L4 21.41c.39.39.9.59 1.41.59.51 0 1.02-.2 1.41-.59l7.78-7.78 2.81-2.81c.8-.78.8-2.07 0-2.86zM5.41 20L4 18.59l7.72-7.72 1.47 1.35L5.41 20z\"/>\n",
              "  </svg>\n",
              "      </button>\n",
              "      \n",
              "  <style>\n",
              "    .colab-df-container {\n",
              "      display:flex;\n",
              "      flex-wrap:wrap;\n",
              "      gap: 12px;\n",
              "    }\n",
              "\n",
              "    .colab-df-convert {\n",
              "      background-color: #E8F0FE;\n",
              "      border: none;\n",
              "      border-radius: 50%;\n",
              "      cursor: pointer;\n",
              "      display: none;\n",
              "      fill: #1967D2;\n",
              "      height: 32px;\n",
              "      padding: 0 0 0 0;\n",
              "      width: 32px;\n",
              "    }\n",
              "\n",
              "    .colab-df-convert:hover {\n",
              "      background-color: #E2EBFA;\n",
              "      box-shadow: 0px 1px 2px rgba(60, 64, 67, 0.3), 0px 1px 3px 1px rgba(60, 64, 67, 0.15);\n",
              "      fill: #174EA6;\n",
              "    }\n",
              "\n",
              "    [theme=dark] .colab-df-convert {\n",
              "      background-color: #3B4455;\n",
              "      fill: #D2E3FC;\n",
              "    }\n",
              "\n",
              "    [theme=dark] .colab-df-convert:hover {\n",
              "      background-color: #434B5C;\n",
              "      box-shadow: 0px 1px 3px 1px rgba(0, 0, 0, 0.15);\n",
              "      filter: drop-shadow(0px 1px 2px rgba(0, 0, 0, 0.3));\n",
              "      fill: #FFFFFF;\n",
              "    }\n",
              "  </style>\n",
              "\n",
              "      <script>\n",
              "        const buttonEl =\n",
              "          document.querySelector('#df-a713c395-64ce-4fbc-b17d-54bed79999a6 button.colab-df-convert');\n",
              "        buttonEl.style.display =\n",
              "          google.colab.kernel.accessAllowed ? 'block' : 'none';\n",
              "\n",
              "        async function convertToInteractive(key) {\n",
              "          const element = document.querySelector('#df-a713c395-64ce-4fbc-b17d-54bed79999a6');\n",
              "          const dataTable =\n",
              "            await google.colab.kernel.invokeFunction('convertToInteractive',\n",
              "                                                     [key], {});\n",
              "          if (!dataTable) return;\n",
              "\n",
              "          const docLinkHtml = 'Like what you see? Visit the ' +\n",
              "            '<a target=\"_blank\" href=https://colab.research.google.com/notebooks/data_table.ipynb>data table notebook</a>'\n",
              "            + ' to learn more about interactive tables.';\n",
              "          element.innerHTML = '';\n",
              "          dataTable['output_type'] = 'display_data';\n",
              "          await google.colab.output.renderOutput(dataTable, element);\n",
              "          const docLink = document.createElement('div');\n",
              "          docLink.innerHTML = docLinkHtml;\n",
              "          element.appendChild(docLink);\n",
              "        }\n",
              "      </script>\n",
              "    </div>\n",
              "  </div>\n",
              "  "
            ],
            "text/plain": [
              "                                male/female  precision  male_precision  \\\n",
              "1  M/F normal model train:70/30 test: 50/50   0.659162        0.685883   \n",
              "2  M/F normal model train:70/30 test: 70/30   0.650564        0.685883   \n",
              "3  M/F normal model train:70/30 test: 90/10   0.605455        0.685883   \n",
              "\n",
              "   female_precision  accuracy  male_accuracy  female_accuracy    recall  \\\n",
              "1          0.594255  0.664980       0.670189         0.656857  0.609685   \n",
              "2          0.556863  0.669254       0.670189         0.667708  0.616167   \n",
              "3          0.239057  0.690089       0.670189         0.735395  0.652941   \n",
              "\n",
              "   male_recall  female_recall        f1   male_f1  female_f1       fpr  \\\n",
              "1     0.673929       0.481105  0.633459  0.679853   0.531727  0.285026   \n",
              "2     0.673929       0.481356  0.632898  0.679853   0.516364  0.285026   \n",
              "3     0.673929       0.464052  0.628302  0.679853   0.315556  0.285026   \n",
              "\n",
              "   male_fpr  female_fpr       fnr  male_fnr  female_fnr  fairness_metric  \n",
              "1  0.333857    0.223541  0.390315  0.326071    0.518895         1.231022  \n",
              "2  0.333857    0.223541  0.383833  0.326071    0.518644         1.222425  \n",
              "3  0.333857    0.223541  0.347059  0.326071    0.535948         1.196437  "
            ]
          },
          "execution_count": 132,
          "metadata": {},
          "output_type": "execute_result"
        }
      ],
      "source": [
        "results_df"
      ]
    },
    {
      "cell_type": "code",
      "execution_count": null,
      "metadata": {
        "id": "_MbyDpdeRfW6"
      },
      "outputs": [],
      "source": [
        "results_df.to_csv('/content/drive/Othercomputers/My_MacBook_Pro/final_project/result_8020.csv')"
      ]
    }
  ],
  "metadata": {
    "accelerator": "GPU",
    "colab": {
      "machine_shape": "hm",
      "provenance": [],
      "authorship_tag": "ABX9TyOfCVzf+yMe4SdhSNuZ+KAb",
      "include_colab_link": true
    },
    "gpuClass": "premium",
    "kernelspec": {
      "display_name": "Python 3",
      "name": "python3"
    },
    "language_info": {
      "name": "python"
    }
  },
  "nbformat": 4,
  "nbformat_minor": 0
}