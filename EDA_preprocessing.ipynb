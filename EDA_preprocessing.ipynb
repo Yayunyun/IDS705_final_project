{
  "nbformat": 4,
  "nbformat_minor": 0,
  "metadata": {
    "colab": {
      "provenance": [],
      "authorship_tag": "ABX9TyP3nWMHMwnZwmOLxA+p8RfK",
      "include_colab_link": true
    },
    "kernelspec": {
      "name": "python3",
      "display_name": "Python 3"
    },
    "language_info": {
      "name": "python"
    }
  },
  "cells": [
    {
      "cell_type": "markdown",
      "metadata": {
        "id": "view-in-github",
        "colab_type": "text"
      },
      "source": [
        "<a href=\"https://colab.research.google.com/github/Yayunyun/IDS705_final_project/blob/main/EDA_preprocessing.ipynb\" target=\"_parent\"><img src=\"https://colab.research.google.com/assets/colab-badge.svg\" alt=\"Open In Colab\"/></a>"
      ]
    },
    {
      "cell_type": "markdown",
      "source": [
        "# Set up\n",
        "- connect to google drive and load images to Colab\n",
        "- import pacakges"
      ],
      "metadata": {
        "id": "jjTF9B4ZNWyu"
      }
    },
    {
      "cell_type": "code",
      "source": [
        "# @title import module and load data from google drive\n",
        "# connect to google drive\n",
        "from google.colab import drive\n",
        "drive.mount('/content/drive/', force_remount = False)\n",
        "# cd to my final project folder\n",
        "%cd /content/drive/Othercomputers/My_MacBook_Pro/final_project/data\n",
        "# move to working folder in colab\n",
        "%cd /content\n",
        "%mkdir final_project\n",
        "%cd final_project\n",
        "\n",
        "# unzip folder from google drive to colab\n",
        "!unzip /content/drive/Othercomputers/My_MacBook_Pro/final_project/data/images.zip\n",
        "#!unzip /content/drive/Othercomputers/My_MacBook_Pro/final_project/data/images2.zip\n",
        "#!unzip /content/drive/Othercomputers/My_MacBook_Pro/final_project/data/images3.zip\n",
        "!unzip /content/drive/Othercomputers/My_MacBook_Pro/final_project/data/images4.zip\n",
        "!unzip /content/drive/Othercomputers/My_MacBook_Pro/final_project/data/images5.zip\n",
        "!unzip /content/drive/Othercomputers/My_MacBook_Pro/final_project/data/images6.zip\n",
        "!unzip /content/drive/Othercomputers/My_MacBook_Pro/final_project/data/images7.zip\n",
        "#!unzip /content/drive/Othercomputers/My_MacBook_Pro/final_project/data/images8.zip\n",
        "!unzip /content/drive/Othercomputers/My_MacBook_Pro/final_project/data/images9.zip\n",
        "!unzip /content/drive/Othercomputers/My_MacBook_Pro/final_project/data/images10.zip\n",
        "!unzip /content/drive/Othercomputers/My_MacBook_Pro/final_project/data/images11.zip\n",
        "!unzip /content/drive/Othercomputers/My_MacBook_Pro/final_project/data/images12.zip\n",
        "\n",
        "# copy files from g-drive to colab\n",
        "%cp /content/drive/Othercomputers/My_MacBook_Pro/final_project/data/Data_Entry_2017.csv .\n",
        "# import pacakges\n",
        "import numpy as np\n",
        "import pandas as pd\n",
        "import matplotlib.pyplot as plt\n",
        "import seaborn as sns\n",
        "import os\n",
        "from torchvision.io import read_image\n",
        "from torch.utils.data import Dataset, DataLoader\n",
        "\n",
        "%matplotlib inline\n",
        "\n",
        "from __future__ import print_function\n",
        "from __future__ import division\n",
        "import torch\n",
        "import torch.nn as nn\n",
        "import torch.optim as optim\n",
        "import numpy as np\n",
        "import torchvision\n",
        "from torchvision import datasets, models, transforms\n",
        "from PIL import Image\n",
        "\n",
        "import matplotlib.pyplot as plt\n",
        "import time\n",
        "import os\n",
        "import copy\n",
        "\n",
        "import numpy as np\n",
        "import pandas as pd\n",
        "import matplotlib.pyplot as plt\n",
        "import seaborn as sns\n",
        "import os\n",
        "\n",
        "import os\n",
        "import pandas as pd\n",
        "from torchvision.io import read_image\n",
        "from sklearn.metrics import precision_score, accuracy_score, recall_score, f1_score\n",
        "from sklearn.model_selection import train_test_split\n",
        "\n",
        "device = torch.device(\"cuda:0\" if torch.cuda.is_available() else \"cpu\")\n",
        "print(device)\n",
        "\n",
        "%matplotlib inline\n",
        "print(\"PyTorch Version: \",torch.__version__)\n",
        "print(\"Torchvision Version: \",torchvision.__version__)\n",
        "\n",
        "### OpenMP issues\n",
        "os.environ['KMP_DUPLICATE_LIB_OK']='True'\n",
        "\n",
        "%cd /content"
      ],
      "metadata": {
        "cellView": "form",
        "id": "ZrbEdJXYQu6r"
      },
      "execution_count": null,
      "outputs": []
    },
    {
      "cell_type": "markdown",
      "metadata": {
        "id": "hj8g7BxUzd3n"
      },
      "source": [
        "# EDA and data preprocessing"
      ]
    },
    {
      "cell_type": "code",
      "execution_count": null,
      "metadata": {
        "colab": {
          "base_uri": "https://localhost:8080/",
          "height": 161
        },
        "id": "D2gYFChazdjE",
        "outputId": "fd1f22dc-1a9b-4b9f-b5ec-46d6e5510876"
      },
      "outputs": [
        {
          "name": "stdout",
          "output_type": "stream",
          "text": [
            "There are 112120 observations and 12 features in the dataset\n"
          ]
        },
        {
          "data": {
            "text/html": [
              "\n",
              "  <div id=\"df-42dfc024-17f1-485e-9d34-6e665cf052a0\">\n",
              "    <div class=\"colab-df-container\">\n",
              "      <div>\n",
              "<style scoped>\n",
              "    .dataframe tbody tr th:only-of-type {\n",
              "        vertical-align: middle;\n",
              "    }\n",
              "\n",
              "    .dataframe tbody tr th {\n",
              "        vertical-align: top;\n",
              "    }\n",
              "\n",
              "    .dataframe thead th {\n",
              "        text-align: right;\n",
              "    }\n",
              "</style>\n",
              "<table border=\"1\" class=\"dataframe\">\n",
              "  <thead>\n",
              "    <tr style=\"text-align: right;\">\n",
              "      <th></th>\n",
              "      <th>Image Index</th>\n",
              "      <th>Finding Labels</th>\n",
              "      <th>Follow-up #</th>\n",
              "      <th>Patient ID</th>\n",
              "      <th>Patient Age</th>\n",
              "      <th>Patient Gender</th>\n",
              "      <th>View Position</th>\n",
              "      <th>OriginalImage[Width</th>\n",
              "      <th>Height]</th>\n",
              "      <th>OriginalImagePixelSpacing[x</th>\n",
              "      <th>y]</th>\n",
              "      <th>Unnamed: 11</th>\n",
              "    </tr>\n",
              "  </thead>\n",
              "  <tbody>\n",
              "    <tr>\n",
              "      <th>0</th>\n",
              "      <td>00000001_000.png</td>\n",
              "      <td>Cardiomegaly</td>\n",
              "      <td>0</td>\n",
              "      <td>1</td>\n",
              "      <td>58</td>\n",
              "      <td>M</td>\n",
              "      <td>PA</td>\n",
              "      <td>2682</td>\n",
              "      <td>2749</td>\n",
              "      <td>0.143</td>\n",
              "      <td>0.143</td>\n",
              "      <td>NaN</td>\n",
              "    </tr>\n",
              "    <tr>\n",
              "      <th>1</th>\n",
              "      <td>00000001_001.png</td>\n",
              "      <td>Cardiomegaly|Emphysema</td>\n",
              "      <td>1</td>\n",
              "      <td>1</td>\n",
              "      <td>58</td>\n",
              "      <td>M</td>\n",
              "      <td>PA</td>\n",
              "      <td>2894</td>\n",
              "      <td>2729</td>\n",
              "      <td>0.143</td>\n",
              "      <td>0.143</td>\n",
              "      <td>NaN</td>\n",
              "    </tr>\n",
              "    <tr>\n",
              "      <th>2</th>\n",
              "      <td>00000001_002.png</td>\n",
              "      <td>Cardiomegaly|Effusion</td>\n",
              "      <td>2</td>\n",
              "      <td>1</td>\n",
              "      <td>58</td>\n",
              "      <td>M</td>\n",
              "      <td>PA</td>\n",
              "      <td>2500</td>\n",
              "      <td>2048</td>\n",
              "      <td>0.168</td>\n",
              "      <td>0.168</td>\n",
              "      <td>NaN</td>\n",
              "    </tr>\n",
              "  </tbody>\n",
              "</table>\n",
              "</div>\n",
              "      <button class=\"colab-df-convert\" onclick=\"convertToInteractive('df-42dfc024-17f1-485e-9d34-6e665cf052a0')\"\n",
              "              title=\"Convert this dataframe to an interactive table.\"\n",
              "              style=\"display:none;\">\n",
              "        \n",
              "  <svg xmlns=\"http://www.w3.org/2000/svg\" height=\"24px\"viewBox=\"0 0 24 24\"\n",
              "       width=\"24px\">\n",
              "    <path d=\"M0 0h24v24H0V0z\" fill=\"none\"/>\n",
              "    <path d=\"M18.56 5.44l.94 2.06.94-2.06 2.06-.94-2.06-.94-.94-2.06-.94 2.06-2.06.94zm-11 1L8.5 8.5l.94-2.06 2.06-.94-2.06-.94L8.5 2.5l-.94 2.06-2.06.94zm10 10l.94 2.06.94-2.06 2.06-.94-2.06-.94-.94-2.06-.94 2.06-2.06.94z\"/><path d=\"M17.41 7.96l-1.37-1.37c-.4-.4-.92-.59-1.43-.59-.52 0-1.04.2-1.43.59L10.3 9.45l-7.72 7.72c-.78.78-.78 2.05 0 2.83L4 21.41c.39.39.9.59 1.41.59.51 0 1.02-.2 1.41-.59l7.78-7.78 2.81-2.81c.8-.78.8-2.07 0-2.86zM5.41 20L4 18.59l7.72-7.72 1.47 1.35L5.41 20z\"/>\n",
              "  </svg>\n",
              "      </button>\n",
              "      \n",
              "  <style>\n",
              "    .colab-df-container {\n",
              "      display:flex;\n",
              "      flex-wrap:wrap;\n",
              "      gap: 12px;\n",
              "    }\n",
              "\n",
              "    .colab-df-convert {\n",
              "      background-color: #E8F0FE;\n",
              "      border: none;\n",
              "      border-radius: 50%;\n",
              "      cursor: pointer;\n",
              "      display: none;\n",
              "      fill: #1967D2;\n",
              "      height: 32px;\n",
              "      padding: 0 0 0 0;\n",
              "      width: 32px;\n",
              "    }\n",
              "\n",
              "    .colab-df-convert:hover {\n",
              "      background-color: #E2EBFA;\n",
              "      box-shadow: 0px 1px 2px rgba(60, 64, 67, 0.3), 0px 1px 3px 1px rgba(60, 64, 67, 0.15);\n",
              "      fill: #174EA6;\n",
              "    }\n",
              "\n",
              "    [theme=dark] .colab-df-convert {\n",
              "      background-color: #3B4455;\n",
              "      fill: #D2E3FC;\n",
              "    }\n",
              "\n",
              "    [theme=dark] .colab-df-convert:hover {\n",
              "      background-color: #434B5C;\n",
              "      box-shadow: 0px 1px 3px 1px rgba(0, 0, 0, 0.15);\n",
              "      filter: drop-shadow(0px 1px 2px rgba(0, 0, 0, 0.3));\n",
              "      fill: #FFFFFF;\n",
              "    }\n",
              "  </style>\n",
              "\n",
              "      <script>\n",
              "        const buttonEl =\n",
              "          document.querySelector('#df-42dfc024-17f1-485e-9d34-6e665cf052a0 button.colab-df-convert');\n",
              "        buttonEl.style.display =\n",
              "          google.colab.kernel.accessAllowed ? 'block' : 'none';\n",
              "\n",
              "        async function convertToInteractive(key) {\n",
              "          const element = document.querySelector('#df-42dfc024-17f1-485e-9d34-6e665cf052a0');\n",
              "          const dataTable =\n",
              "            await google.colab.kernel.invokeFunction('convertToInteractive',\n",
              "                                                     [key], {});\n",
              "          if (!dataTable) return;\n",
              "\n",
              "          const docLinkHtml = 'Like what you see? Visit the ' +\n",
              "            '<a target=\"_blank\" href=https://colab.research.google.com/notebooks/data_table.ipynb>data table notebook</a>'\n",
              "            + ' to learn more about interactive tables.';\n",
              "          element.innerHTML = '';\n",
              "          dataTable['output_type'] = 'display_data';\n",
              "          await google.colab.output.renderOutput(dataTable, element);\n",
              "          const docLink = document.createElement('div');\n",
              "          docLink.innerHTML = docLinkHtml;\n",
              "          element.appendChild(docLink);\n",
              "        }\n",
              "      </script>\n",
              "    </div>\n",
              "  </div>\n",
              "  "
            ],
            "text/plain": [
              "        Image Index          Finding Labels  Follow-up #  Patient ID  \\\n",
              "0  00000001_000.png            Cardiomegaly            0           1   \n",
              "1  00000001_001.png  Cardiomegaly|Emphysema            1           1   \n",
              "2  00000001_002.png   Cardiomegaly|Effusion            2           1   \n",
              "\n",
              "   Patient Age Patient Gender View Position  OriginalImage[Width  Height]  \\\n",
              "0           58              M            PA                 2682     2749   \n",
              "1           58              M            PA                 2894     2729   \n",
              "2           58              M            PA                 2500     2048   \n",
              "\n",
              "   OriginalImagePixelSpacing[x     y]  Unnamed: 11  \n",
              "0                        0.143  0.143          NaN  \n",
              "1                        0.143  0.143          NaN  \n",
              "2                        0.168  0.168          NaN  "
            ]
          },
          "execution_count": 81,
          "metadata": {},
          "output_type": "execute_result"
        }
      ],
      "source": [
        "# load csv dataset from data folder\n",
        "df = pd.read_csv('./final_project/Data_Entry_2017.csv')\n",
        "# check how many observation and features\n",
        "print(\"There are {} observations and {} features in the dataset\".format(df.shape[0], df.shape[1]))\n",
        "# check the first 5 rows\n",
        "df.head(3)"
      ]
    },
    {
      "cell_type": "code",
      "execution_count": null,
      "metadata": {
        "colab": {
          "base_uri": "https://localhost:8080/"
        },
        "id": "csZf8ilLz_nY",
        "outputId": "c5e53e3f-4ce8-4242-cbec-20401ef50dd5"
      },
      "outputs": [
        {
          "data": {
            "text/plain": [
              "Image Index                    0\n",
              "Finding Labels                 0\n",
              "Follow-up #                    0\n",
              "Patient ID                     0\n",
              "Patient Age                    0\n",
              "Patient Gender                 0\n",
              "View Position                  0\n",
              "OriginalImage[Width            0\n",
              "Height]                        0\n",
              "OriginalImagePixelSpacing[x    0\n",
              "y]                             0\n",
              "dtype: int64"
            ]
          },
          "execution_count": 82,
          "metadata": {},
          "output_type": "execute_result"
        }
      ],
      "source": [
        "#drop the \"Unanamed: 11\" column\n",
        "df.drop(columns = ['Unnamed: 11'], inplace = True)\n",
        "# check missing value\n",
        "df.isnull().sum()"
      ]
    },
    {
      "cell_type": "markdown",
      "source": [
        "There is no missing value in the dataset. "
      ],
      "metadata": {
        "id": "J-aLbnXlIo86"
      }
    },
    {
      "cell_type": "markdown",
      "source": [
        "Merge image path and the information dataframe"
      ],
      "metadata": {
        "id": "qkbG8nj5Itns"
      }
    },
    {
      "cell_type": "code",
      "execution_count": null,
      "metadata": {
        "colab": {
          "base_uri": "https://localhost:8080/",
          "height": 161
        },
        "id": "BLunJQOfz5IT",
        "outputId": "f9b297fc-1450-4095-a833-5f9faa0b5877"
      },
      "outputs": [
        {
          "name": "stdout",
          "output_type": "stream",
          "text": [
            "Total image files found : 112120\n"
          ]
        },
        {
          "data": {
            "text/html": [
              "\n",
              "  <div id=\"df-be1c5c56-4aff-4d4c-bd40-8b05b189ca9a\">\n",
              "    <div class=\"colab-df-container\">\n",
              "      <div>\n",
              "<style scoped>\n",
              "    .dataframe tbody tr th:only-of-type {\n",
              "        vertical-align: middle;\n",
              "    }\n",
              "\n",
              "    .dataframe tbody tr th {\n",
              "        vertical-align: top;\n",
              "    }\n",
              "\n",
              "    .dataframe thead th {\n",
              "        text-align: right;\n",
              "    }\n",
              "</style>\n",
              "<table border=\"1\" class=\"dataframe\">\n",
              "  <thead>\n",
              "    <tr style=\"text-align: right;\">\n",
              "      <th></th>\n",
              "      <th>Index</th>\n",
              "      <th>Finding Labels</th>\n",
              "      <th>Follow-up #</th>\n",
              "      <th>Patient ID</th>\n",
              "      <th>Patient Age</th>\n",
              "      <th>Patient Gender</th>\n",
              "      <th>View Position</th>\n",
              "      <th>OriginalImage[Width</th>\n",
              "      <th>Height]</th>\n",
              "      <th>OriginalImagePixelSpacing[x</th>\n",
              "      <th>y]</th>\n",
              "      <th>FilePath</th>\n",
              "    </tr>\n",
              "  </thead>\n",
              "  <tbody>\n",
              "    <tr>\n",
              "      <th>0</th>\n",
              "      <td>00000001_000.png</td>\n",
              "      <td>Cardiomegaly</td>\n",
              "      <td>0</td>\n",
              "      <td>1</td>\n",
              "      <td>58</td>\n",
              "      <td>M</td>\n",
              "      <td>PA</td>\n",
              "      <td>2682</td>\n",
              "      <td>2749</td>\n",
              "      <td>0.143</td>\n",
              "      <td>0.143</td>\n",
              "      <td>./final_project/images/00000001_000.png</td>\n",
              "    </tr>\n",
              "    <tr>\n",
              "      <th>1</th>\n",
              "      <td>00000001_001.png</td>\n",
              "      <td>Cardiomegaly|Emphysema</td>\n",
              "      <td>1</td>\n",
              "      <td>1</td>\n",
              "      <td>58</td>\n",
              "      <td>M</td>\n",
              "      <td>PA</td>\n",
              "      <td>2894</td>\n",
              "      <td>2729</td>\n",
              "      <td>0.143</td>\n",
              "      <td>0.143</td>\n",
              "      <td>./final_project/images/00000001_001.png</td>\n",
              "    </tr>\n",
              "    <tr>\n",
              "      <th>2</th>\n",
              "      <td>00000001_002.png</td>\n",
              "      <td>Cardiomegaly|Effusion</td>\n",
              "      <td>2</td>\n",
              "      <td>1</td>\n",
              "      <td>58</td>\n",
              "      <td>M</td>\n",
              "      <td>PA</td>\n",
              "      <td>2500</td>\n",
              "      <td>2048</td>\n",
              "      <td>0.168</td>\n",
              "      <td>0.168</td>\n",
              "      <td>./final_project/images/00000001_002.png</td>\n",
              "    </tr>\n",
              "  </tbody>\n",
              "</table>\n",
              "</div>\n",
              "      <button class=\"colab-df-convert\" onclick=\"convertToInteractive('df-be1c5c56-4aff-4d4c-bd40-8b05b189ca9a')\"\n",
              "              title=\"Convert this dataframe to an interactive table.\"\n",
              "              style=\"display:none;\">\n",
              "        \n",
              "  <svg xmlns=\"http://www.w3.org/2000/svg\" height=\"24px\"viewBox=\"0 0 24 24\"\n",
              "       width=\"24px\">\n",
              "    <path d=\"M0 0h24v24H0V0z\" fill=\"none\"/>\n",
              "    <path d=\"M18.56 5.44l.94 2.06.94-2.06 2.06-.94-2.06-.94-.94-2.06-.94 2.06-2.06.94zm-11 1L8.5 8.5l.94-2.06 2.06-.94-2.06-.94L8.5 2.5l-.94 2.06-2.06.94zm10 10l.94 2.06.94-2.06 2.06-.94-2.06-.94-.94-2.06-.94 2.06-2.06.94z\"/><path d=\"M17.41 7.96l-1.37-1.37c-.4-.4-.92-.59-1.43-.59-.52 0-1.04.2-1.43.59L10.3 9.45l-7.72 7.72c-.78.78-.78 2.05 0 2.83L4 21.41c.39.39.9.59 1.41.59.51 0 1.02-.2 1.41-.59l7.78-7.78 2.81-2.81c.8-.78.8-2.07 0-2.86zM5.41 20L4 18.59l7.72-7.72 1.47 1.35L5.41 20z\"/>\n",
              "  </svg>\n",
              "      </button>\n",
              "      \n",
              "  <style>\n",
              "    .colab-df-container {\n",
              "      display:flex;\n",
              "      flex-wrap:wrap;\n",
              "      gap: 12px;\n",
              "    }\n",
              "\n",
              "    .colab-df-convert {\n",
              "      background-color: #E8F0FE;\n",
              "      border: none;\n",
              "      border-radius: 50%;\n",
              "      cursor: pointer;\n",
              "      display: none;\n",
              "      fill: #1967D2;\n",
              "      height: 32px;\n",
              "      padding: 0 0 0 0;\n",
              "      width: 32px;\n",
              "    }\n",
              "\n",
              "    .colab-df-convert:hover {\n",
              "      background-color: #E2EBFA;\n",
              "      box-shadow: 0px 1px 2px rgba(60, 64, 67, 0.3), 0px 1px 3px 1px rgba(60, 64, 67, 0.15);\n",
              "      fill: #174EA6;\n",
              "    }\n",
              "\n",
              "    [theme=dark] .colab-df-convert {\n",
              "      background-color: #3B4455;\n",
              "      fill: #D2E3FC;\n",
              "    }\n",
              "\n",
              "    [theme=dark] .colab-df-convert:hover {\n",
              "      background-color: #434B5C;\n",
              "      box-shadow: 0px 1px 3px 1px rgba(0, 0, 0, 0.15);\n",
              "      filter: drop-shadow(0px 1px 2px rgba(0, 0, 0, 0.3));\n",
              "      fill: #FFFFFF;\n",
              "    }\n",
              "  </style>\n",
              "\n",
              "      <script>\n",
              "        const buttonEl =\n",
              "          document.querySelector('#df-be1c5c56-4aff-4d4c-bd40-8b05b189ca9a button.colab-df-convert');\n",
              "        buttonEl.style.display =\n",
              "          google.colab.kernel.accessAllowed ? 'block' : 'none';\n",
              "\n",
              "        async function convertToInteractive(key) {\n",
              "          const element = document.querySelector('#df-be1c5c56-4aff-4d4c-bd40-8b05b189ca9a');\n",
              "          const dataTable =\n",
              "            await google.colab.kernel.invokeFunction('convertToInteractive',\n",
              "                                                     [key], {});\n",
              "          if (!dataTable) return;\n",
              "\n",
              "          const docLinkHtml = 'Like what you see? Visit the ' +\n",
              "            '<a target=\"_blank\" href=https://colab.research.google.com/notebooks/data_table.ipynb>data table notebook</a>'\n",
              "            + ' to learn more about interactive tables.';\n",
              "          element.innerHTML = '';\n",
              "          dataTable['output_type'] = 'display_data';\n",
              "          await google.colab.output.renderOutput(dataTable, element);\n",
              "          const docLink = document.createElement('div');\n",
              "          docLink.innerHTML = docLinkHtml;\n",
              "          element.appendChild(docLink);\n",
              "        }\n",
              "      </script>\n",
              "    </div>\n",
              "  </div>\n",
              "  "
            ],
            "text/plain": [
              "              Index          Finding Labels  Follow-up #  Patient ID  \\\n",
              "0  00000001_000.png            Cardiomegaly            0           1   \n",
              "1  00000001_001.png  Cardiomegaly|Emphysema            1           1   \n",
              "2  00000001_002.png   Cardiomegaly|Effusion            2           1   \n",
              "\n",
              "   Patient Age Patient Gender View Position  OriginalImage[Width  Height]  \\\n",
              "0           58              M            PA                 2682     2749   \n",
              "1           58              M            PA                 2894     2729   \n",
              "2           58              M            PA                 2500     2048   \n",
              "\n",
              "   OriginalImagePixelSpacing[x     y]                                 FilePath  \n",
              "0                        0.143  0.143  ./final_project/images/00000001_000.png  \n",
              "1                        0.143  0.143  ./final_project/images/00000001_001.png  \n",
              "2                        0.168  0.168  ./final_project/images/00000001_002.png  "
            ]
          },
          "execution_count": 83,
          "metadata": {},
          "output_type": "execute_result"
        }
      ],
      "source": [
        "# merge image path and the dataframe\n",
        "# load image paths\n",
        "from glob import glob\n",
        "image_paths = glob('./final_project/images*/*.png')\n",
        "print(f'Total image files found : {len(image_paths)}')\n",
        "\n",
        "# merge image path and the dataframe\n",
        "Index =[]\n",
        "for path in image_paths:\n",
        "    Index.append(path.split('/')[3])\n",
        "index_path_map = pd.DataFrame({'Index':Index, 'FilePath': image_paths})\n",
        "index_path_map.head()\n",
        "\n",
        "# rename \"Image Index\" column to \"Index\"\n",
        "df.rename(columns={'Image Index':'Index'}, inplace=True)\n",
        "\n",
        "# # Merge the absolute path of the images to the main dataframe\n",
        "path_df = pd.merge(df, index_path_map, on='Index', how='inner')\n",
        "path_df.head(3)"
      ]
    },
    {
      "cell_type": "markdown",
      "source": [
        "There are in total 112120 images."
      ],
      "metadata": {
        "id": "aHPrTcKPIyla"
      }
    },
    {
      "cell_type": "markdown",
      "source": [
        "Since our task is a binary classification task to see if a image has eithter at least one clinical finding or no finding, we relabel all images into either Sick = 1 or Sick = 0."
      ],
      "metadata": {
        "id": "K2ogje6dI94T"
      }
    },
    {
      "cell_type": "code",
      "execution_count": null,
      "metadata": {
        "colab": {
          "base_uri": "https://localhost:8080/"
        },
        "id": "tOVzhxgE0a0e",
        "outputId": "3ac7db7f-bb37-4489-f74c-4f3a0e2fa1ff"
      },
      "outputs": [
        {
          "data": {
            "text/plain": [
              "0    33922\n",
              "1    29418\n",
              "Name: Sick, dtype: int64"
            ]
          },
          "execution_count": 84,
          "metadata": {},
          "output_type": "execute_result"
        }
      ],
      "source": [
        "# relabel all images into  Sick(==1) and Non-sic(==0)\n",
        "path_df['Sick'] = path_df['Finding Labels'].map(lambda x: 0 if x == 'No Finding' else 1)\n",
        "heart_df = path_df.copy()\n",
        "heart_df.loc[heart_df['Patient Gender'] == 'M', 'Sick'].value_counts().sort_index()"
      ]
    },
    {
      "cell_type": "markdown",
      "source": [
        "The distribution of genders across classes of the original dataset."
      ],
      "metadata": {
        "id": "6Bn8LK7YJqYD"
      }
    },
    {
      "cell_type": "code",
      "execution_count": null,
      "metadata": {
        "colab": {
          "base_uri": "https://localhost:8080/",
          "height": 367
        },
        "id": "YhESNGmz05Pj",
        "outputId": "2ef80435-ba8e-461b-819f-547a0f9d1cf4"
      },
      "outputs": [
        {
          "data": {
            "image/png": "[encoded data removed]",
            "text/plain": [
              "<Figure size 600x400 with 1 Axes>"
            ]
          },
          "metadata": {},
          "output_type": "display_data"
        }
      ],
      "source": [
        "# plot the distribution of gender across class in the original dataset\n",
        "plt.figure(figsize=(6,4))\n",
        "male_findings = heart_df.loc[heart_df['Patient Gender'] == 'M', 'Sick'].value_counts().sort_index()\n",
        "female_findings = heart_df.loc[heart_df['Patient Gender'] == 'F', 'Sick'].value_counts().sort_index()\n",
        "plt.bar(male_findings.index, male_findings.values, label = 'Male')\n",
        "plt.bar(female_findings.index, female_findings.values, bottom=male_findings.values, label = 'Female')\n",
        "plt.legend()\n",
        "plt.ylabel('Number of samples')\n",
        "plt.xticks([0,1], ['non-Sick', 'Sick'], size = 9);"
      ]
    },
    {
      "cell_type": "markdown",
      "metadata": {
        "id": "4aAjzBwZCpmb"
      },
      "source": [
        "# Create train, validation and test sets\n",
        "Because of **limited computational resources and time**, we would only use 25K out of the original 110K samples."
      ]
    },
    {
      "cell_type": "code",
      "execution_count": null,
      "metadata": {
        "id": "ACzdZUE2VUsm"
      },
      "outputs": [],
      "source": [
        "# create a indicator for gender where 1 = Male 0 = female\n",
        "heart_df['gender'] = heart_df['Patient Gender'].map(lambda x: 1 if x=='M' else 0)\n",
        "# sample 25000 samples from the original dataset\n",
        "heart_df = heart_df.sample(25000, random_state = 0)"
      ]
    },
    {
      "cell_type": "markdown",
      "metadata": {
        "id": "Z16JRWhF0Qi2"
      },
      "source": [
        "# Introduce Bias - create a balanced and a gender-imbalanced training set\n",
        "\n",
        "We would create these 2 training sets to train our Unbiased and Biased model, respectively. \n",
        "- Create a balanced dataset with regard to class\n",
        "- Train-test split with 80-20% ratio\n",
        "- Make different gender-imabalanced train sets where \n",
        "  - sick-male:sick-female = 50:50 and 80:20.\n",
        "- save these dataset for further training\n",
        "- Split the imbalanced train set to train and validation set with 80-20% ratio.\n",
        "\n",
        "  \n",
        "By doing this, we are able to train the **Unbiased model** on the 50:50 training set and **Biased model** on the 80:20 training set. After training, we would evaluate the model's performacne and bias with same sets of test sets using our fairness metric. To make our fairness metrics comparable, we have several assumption.\n",
        "\n",
        "## Assumption:  \n",
        "  \n",
        "For the training and validation dataset:\n",
        "1. Number of **Sick male** = Number of **non-sick male** \n",
        "2. Number of **non-sick male** = Number of **non-sick female**\n",
        "\n",
        " \n",
        "**Cons**:  \n",
        "As we decrease the ratio of sick-female/non-sick-female, the model may become towards to predict non-sickness since the overall sick samples decrease. **However** since, we are not directly compare overall false negative rate(FNR) across dataset, we are comparing the fairness metric, which is somehow the ratio between gender-weighted FNR, this metric should be comarapble if we test the two models on the same test set.\n"
      ]
    },
    {
      "cell_type": "code",
      "execution_count": null,
      "metadata": {
        "colab": {
          "base_uri": "https://localhost:8080/",
          "height": 369
        },
        "id": "_CnWUci9CM62",
        "outputId": "81e5651d-1069-4dd2-f101-7ba09d784cdf"
      },
      "outputs": [
        {
          "data": {
            "image/png": "[encoded data removed]",
            "text/plain": [
              "<Figure size 400x400 with 1 Axes>"
            ]
          },
          "metadata": {},
          "output_type": "display_data"
        }
      ],
      "source": [
        "# create a class-balanced(not gender balance) dataset\n",
        "non_heart = heart_df.loc[heart_df['Sick'] == 0].sample(heart_df['Sick'].sum(), random_state = 1)\n",
        "balanced_df = pd.concat([heart_df.loc[heart_df['Sick'] == 1], non_heart])\n",
        "\n",
        "plt.figure(figsize=(4,4))\n",
        "male_findings = balanced_df.loc[balanced_df['Patient Gender'] == 'M', 'Sick'].value_counts().sort_index()\n",
        "female_findings = balanced_df.loc[balanced_df['Patient Gender'] == 'F', 'Sick'].value_counts().sort_index()\n",
        "plt.bar(male_findings.index, male_findings.values, label = 'Male')\n",
        "plt.bar(female_findings.index, female_findings.values, bottom=male_findings.values, label = 'Female')\n",
        "plt.legend(loc = 'lower right')\n",
        "plt.ylabel('Number of samples')\n",
        "plt.xticks([0,1], ['Non-Sick', 'Sick'], size = 9);"
      ]
    },
    {
      "cell_type": "markdown",
      "metadata": {
        "id": "aM9WgcWqG6Lh"
      },
      "source": [
        "- Split the class-balanced dataset into train and test with 80:20 ratio. \n",
        "- Create different levels of geneder-imbalanced training sets"
      ]
    },
    {
      "cell_type": "code",
      "execution_count": null,
      "metadata": {
        "colab": {
          "base_uri": "https://localhost:8080/",
          "height": 390
        },
        "id": "V3zF-9GsFvIl",
        "outputId": "ab81d93b-e549-4f89-83db-86a8ad0cbaca"
      },
      "outputs": [
        {
          "data": {
            "image/png": "[encoded data removed]",
            "text/plain": [
              "<Figure size 1000x400 with 2 Axes>"
            ]
          },
          "metadata": {},
          "output_type": "display_data"
        }
      ],
      "source": [
        "# split the dataset into train and test\n",
        "train_df_, test_df_ = train_test_split(balanced_df, test_size=0.2, random_state=2)\n",
        "\n",
        "# make imbalanced train sets\n",
        "def create_by_ratio(ratio, train_df):\n",
        "\n",
        "  \"\"\"function to create gender-imablanced training set\n",
        "  ratio: female:male ratio\n",
        "  train_df: dataframe to use\"\"\"\n",
        "\n",
        "  # make an imbalanced dataset by undersampling female class\n",
        "  train_male = train_df[train_df['Patient Gender'] == 'M']\n",
        "  train_female = train_df[train_df['Patient Gender'] == 'F']\n",
        "  # heart ==1\n",
        "  male_sample_num = train_male[train_male['Sick'] == 1].shape[0]\n",
        "  female_sample_num = np.round(male_sample_num*ratio).astype(int)\n",
        "  female_df1 = train_female[train_female['Sick'] == 1].sample(female_sample_num,  random_state = 1)\n",
        "\n",
        "\n",
        "  df_imbalanced = pd.concat([train_male, female_df1])\n",
        "  df_imbalanced = pd.concat([df_imbalanced, train_female[train_female['Sick'] == 0]])\n",
        "\n",
        "  return df_imbalanced\n",
        "\n",
        "df_imbalanced_20_80 = create_by_ratio(20/80, train_df_)\n",
        "\n",
        "\n",
        "list_labels = ['Male:Female 50:50', 'Male:Female 80:10']\n",
        "list_train_imblanced = [train_df_, df_imbalanced_20_80]\n",
        "\n",
        "# plot the distribution of hear disease related findings for different male:female ration dataset\n",
        "plt.figure(figsize=(10,4))\n",
        "for i in range(2):\n",
        "  plt.subplot(1, 2, i+1)\n",
        "  cur_df = list_train_imblanced[i]\n",
        "  male_findings = cur_df.loc[cur_df['Patient Gender'] == 'M', 'Sick'].value_counts().sort_index()\n",
        "  female_findings = cur_df.loc[cur_df['Patient Gender'] == 'F', 'Sick'].value_counts().sort_index()\n",
        "  plt.bar(male_findings.index, male_findings.values, label = 'Male')\n",
        "  plt.bar(female_findings.index, female_findings.values, bottom=male_findings.values, label = 'Female')\n",
        "  plt.legend(loc = 'lower right')\n",
        "  plt.title(list_labels[i])\n",
        "  plt.xticks([0,1], ['non-Sick', 'Sick'], size = 9);\n"
      ]
    },
    {
      "cell_type": "code",
      "execution_count": null,
      "metadata": {
        "id": "yzdDI36eOKk3"
      },
      "outputs": [],
      "source": [
        "# save the dataframe\n",
        "train_df_.to_pickle('/content/drive/Othercomputers/My_MacBook_Pro/final_project/df50_50.pkl')\n",
        "df_imbalanced_20_80.to_pickle('/content/drive/Othercomputers/My_MacBook_Pro/final_project/df20_80.pkl')\n",
        "test_df_.to_pickle('/content/drive/Othercomputers/My_MacBook_Pro/final_project/df_test.pkl')"
      ]
    }
  ]
}